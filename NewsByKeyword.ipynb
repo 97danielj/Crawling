{
 "cells": [
  {
   "cell_type": "markdown",
   "id": "a05fbb8f",
   "metadata": {},
   "source": [
    "# HTTPRequest 하기"
   ]
  },
  {
   "cell_type": "code",
   "execution_count": 1,
   "id": "ac964e00",
   "metadata": {},
   "outputs": [],
   "source": [
    "import requests\n",
    "resp = requests.get('https://search.naver.com/search.naver',params={'where': 'news',\n",
    "                                                            'query':'무역전쟁'})"
   ]
  },
  {
   "cell_type": "markdown",
   "id": "40937f6c",
   "metadata": {},
   "source": [
    "# 응답메시지 파싱하기"
   ]
  },
  {
   "cell_type": "code",
   "execution_count": 2,
   "id": "84c797c3",
   "metadata": {},
   "outputs": [],
   "source": [
    "from bs4 import BeautifulSoup\n",
    "news = []\n",
    "soup = BeautifulSoup(resp.text, 'html.parser')"
   ]
  },
  {
   "cell_type": "code",
   "execution_count": 3,
   "id": "46001391",
   "metadata": {},
   "outputs": [],
   "source": [
    "news_list_tags = soup.select('.list_news > .bx')"
   ]
  },
  {
   "cell_type": "code",
   "execution_count": 4,
   "id": "9bc2ebe5",
   "metadata": {},
   "outputs": [],
   "source": [
    "for news_list_tag in news_list_tags:\n",
    "    title_tag = news_list_tag.select_one('.news_tit')\n",
    "    title = title_tag.text\n",
    "    url = title_tag.get('href')\n",
    "    overview_tag = news_list_tag.select_one('.dsc_txt_wrap')\n",
    "    overview = overview_tag.text\n",
    "    \n",
    "    news.append({'title':title, 'url': url,'desc' : overview })"
   ]
  },
  {
   "cell_type": "code",
   "execution_count": 5,
   "id": "e380d1bc",
   "metadata": {},
   "outputs": [
    {
     "data": {
      "text/plain": [
       "[{'title': \"러·우 전쟁 장기화·물가상승 여파에…3분기 수출 '흐림'\",\n",
       "  'url': 'http://www.newsis.com/view/?id=NISX20220626_0001920533&cID=13001&pID=13000',\n",
       "  'desc': '기사내용 요약 무역협회 3분기 수출산업경기전망지수(EBSI) 94.4 러시아·우크라이나 전쟁 장기화, 글로벌 물가 상승 등의 여파로 3분기 국내기업들의 수출이 다소 악화될 것으로 전망됐다. 26일 한국무역협회...'},\n",
       " {'title': \"두개의 전쟁에 맞선 이재용, '3나노 양산'으로 돌파한다\",\n",
       "  'url': 'http://weekly.hankooki.com/news/articleView.html?idxno=7073216',\n",
       "  'desc': '이 부회장은 지난 18일 \"유럽 출장에서 우크라이나 전쟁에 따른 글로벌 공급망 붕괴의 현실을 직접 눈으로... 지난 5월 말 현재 우리나라는 중국 무역에서 27년 9개월 만에 적자를 기록했다. 1994년 8월 이래 처음이다....'},\n",
       " {'title': \"[사설] 이례적인 '역(逆)환율 전쟁' 외자유출 최대한 막아야 한다\",\n",
       "  'url': 'https://www.hankyung.com/opinion/article/2022062673621',\n",
       "  'desc': '미국과 중국의 장기 대립, 그 와중에 우크라이나 전쟁으로 가속화한 글로벌 공급망 훼손 자체가 WTO 체제의 개방 및 자유무역과 완전히 어긋나는 것이다. 하지만 어설픈 당위론이 먹혀들 국제 상황도 아닐뿐더러, 한국은...'},\n",
       " {'title': '[윤석원의 농사일기 148] 신자유주의, 전쟁보다 무서운 것',\n",
       "  'url': 'http://www.ikpnews.net/news/articleView.html?idxno=47797',\n",
       "  'desc': \"개방해 '자유무역'을 하게 되면 농식품 가격이 떨어져 소비자 후생이 증대돼 국민들의 만족도가 높아진다는 주장도 이들 국가들로부터 나왔다. 고래 싸움에 새우만 등 터지는 게 아니라, 고래도 등 터지고 있다. 전쟁보다...\"},\n",
       " {'title': \"[韓무역 향배는]③하반기 '수출 절벽'…반도체·철강 줄줄이 둔화\",\n",
       "  'url': 'http://www.newsis.com/view/?id=NISX20220624_0001919651&cID=13001&pID=13000',\n",
       "  'desc': '러시아의 경우 전쟁 이후 수출 감소가 불가피한 가운데, 완성차 업체들의 판로 개척 움직임이 활발할 것으로 예상된다. 조상현 무역협회 국제무역통상연구원장은 \"올해 우리 수출은 어려운 여건 속에서도 사상 최대...'},\n",
       " {'title': \"최저임금 전쟁 본격화… '스태그플레이션·일자리 감소' 우려\",\n",
       "  'url': 'https://biz.newdaily.co.kr/site/data/html/2022/06/27/2022062700079.html',\n",
       "  'desc': \"27일 전국경제인연합회는 최남석 전북대 무역학과 교수에게 의뢰해 진행한 '최저임금 상승이 일자리에 미치는 영향' 보고서를 통해 내년도 최저임금 인상률에 따른 시나리오별 일자리 감소 규모를 제시했다. 최 교수는...\"},\n",
       " {'title': \"3분기 수출 '흐림'… 러·우 전쟁 장기화 및 물가 상승 여파\",\n",
       "  'url': 'https://ilyo.co.kr/?ac=article_view&entry_id=431321',\n",
       "  'desc': '러시아·우크라이나 전쟁 장기화, 글로벌 물가 상승 등의 여파로 3분기 우리 수출이 다소 악화될 것이란 전망이 나왔다. 한국무역협회 국제무역통상연구원이 국내 1301개 수출기업을 대상으로 실시한 ‘2022년 3분기...'},\n",
       " {'title': '유럽서 줄인 러시아 석유, 인도로 갔다…\"무역 제재 필요해\"',\n",
       "  'url': 'https://www.news1.kr/articles/?4723992',\n",
       "  'desc': '경제와 전쟁을 방해하려는 서방의 제재 목표와는 반대되는 것처럼 보인다\"고 설명했다. 유럽의 제재가 실효성을 갖기 위해서는 무역 제재 같은 직접적인 조처가 필요하다는 지적도 제기됐다. 볼로디미르 젤렌스키...'},\n",
       " {'title': '[DD주간브리핑] 재계, ‘비상경영’ 화두로…무역수지, 3개월째 ‘적자’',\n",
       "  'url': 'https://www.ddaily.co.kr/news/article.html?no=240733',\n",
       "  'desc': '상하이는 4개월 만에 코로나19 방역 전쟁 승리를 선언했다. 베이징은 27일부터 초·중·고 등교를... ‘2022년 6월 수출입 동향’은 3개월 연속 무역수지 적자가 확실시 되고 있다. 7월1일 공개한다. 관세청에 따르면 지난...'},\n",
       " {'title': \"끊어진 하늘·바닷길...전쟁 장기화에 동포들 '시름'\",\n",
       "  'url': 'https://www.ytn.co.kr/_ln/0104_202206260558399145',\n",
       "  'desc': '[기자] 러시아 블라디보스토크 무역 회사에서 일하는 박도연 씨. 가족을 만나러 한국에 가야 하는데 도저히... 더해, 전쟁 여파로 물가 상승률이 2015년 이후 최고치를 기록하면서, 서민 경제와 직결된 식료품값이 연일...'}]"
      ]
     },
     "execution_count": 5,
     "metadata": {},
     "output_type": "execute_result"
    }
   ],
   "source": [
    "news"
   ]
  },
  {
   "cell_type": "code",
   "execution_count": null,
   "id": "6b848093",
   "metadata": {},
   "outputs": [],
   "source": []
  }
 ],
 "metadata": {
  "kernelspec": {
   "display_name": "Python 3 (ipykernel)",
   "language": "python",
   "name": "python3"
  },
  "language_info": {
   "codemirror_mode": {
    "name": "ipython",
    "version": 3
   },
   "file_extension": ".py",
   "mimetype": "text/x-python",
   "name": "python",
   "nbconvert_exporter": "python",
   "pygments_lexer": "ipython3",
   "version": "3.9.7"
  }
 },
 "nbformat": 4,
 "nbformat_minor": 5
}
