{
 "cells": [
  {
   "cell_type": "code",
   "execution_count": 11,
   "id": "fc599b3c",
   "metadata": {},
   "outputs": [
    {
     "data": {
      "text/plain": [
       "'C:\\\\Users\\\\JSWonner\\\\anaconda3\\\\lib\\\\site-packages\\\\edgedriver_autoinstaller\\\\102\\\\msedgedriver.exe'"
      ]
     },
     "execution_count": 11,
     "metadata": {},
     "output_type": "execute_result"
    }
   ],
   "source": [
    "import warnings\n",
    "warnings.filterwarnings('ignore')\n",
    "import time\n",
    "import json\n",
    "from bs4 import BeautifulSoup\n",
    "from selenium.webdriver.common.keys import Keys\n",
    "from selenium import webdriver\n",
    "#브라우저버전에 적합한 엣지드라이버 설치\n"
   ]
  },
  {
   "cell_type": "code",
   "execution_count": 13,
   "id": "a3267354",
   "metadata": {},
   "outputs": [],
   "source": [
    "browser = webdriver.Edge('C:\\Program Files (x86)\\Microsoft\\Edge\\Application\\msedgedriver.exe')\n",
    "browser.maximize_window()\n",
    "browser.get('https://www.metacritic.com/game')\n",
    "browser.implicitly_wait(10)\n",
    "browser.find_element_by_xpath('//*[@id=\"main\"]/div[1]/div[2]/div/div[2]/div/ul/li[11]/div/span/a').click()\n",
    "browser.implicitly_wait(10)\n"
   ]
  },
  {
   "cell_type": "code",
   "execution_count": 78,
   "id": "3e6caafd",
   "metadata": {},
   "outputs": [],
   "source": [
    "titles = browser.find_element_by_css_selector('.clamp-summary-wrap > .title')"
   ]
  },
  {
   "cell_type": "code",
   "execution_count": 79,
   "id": "a4d6fa92",
   "metadata": {},
   "outputs": [
    {
     "ename": "TypeError",
     "evalue": "'WebElement' object is not iterable",
     "output_type": "error",
     "traceback": [
      "\u001b[1;31m---------------------------------------------------------------------------\u001b[0m",
      "\u001b[1;31mTypeError\u001b[0m                                 Traceback (most recent call last)",
      "\u001b[1;32m~\\AppData\\Local\\Temp/ipykernel_26248/2135090137.py\u001b[0m in \u001b[0;36m<module>\u001b[1;34m\u001b[0m\n\u001b[1;32m----> 1\u001b[1;33m \u001b[1;32mfor\u001b[0m \u001b[0mi\u001b[0m \u001b[1;32min\u001b[0m \u001b[0mtitles\u001b[0m\u001b[1;33m:\u001b[0m\u001b[1;33m\u001b[0m\u001b[1;33m\u001b[0m\u001b[0m\n\u001b[0m\u001b[0;32m      2\u001b[0m     \u001b[0mprint\u001b[0m\u001b[1;33m(\u001b[0m\u001b[0mi\u001b[0m\u001b[1;33m.\u001b[0m\u001b[0mtext\u001b[0m\u001b[1;33m)\u001b[0m\u001b[1;33m\u001b[0m\u001b[1;33m\u001b[0m\u001b[0m\n",
      "\u001b[1;31mTypeError\u001b[0m: 'WebElement' object is not iterable"
     ]
    }
   ],
   "source": [
    "for i in titles:\n",
    "    print(i.text)"
   ]
  },
  {
   "cell_type": "code",
   "execution_count": null,
   "id": "aa80b1ae",
   "metadata": {},
   "outputs": [],
   "source": []
  }
 ],
 "metadata": {
  "kernelspec": {
   "display_name": "Python 3 (ipykernel)",
   "language": "python",
   "name": "python3"
  },
  "language_info": {
   "codemirror_mode": {
    "name": "ipython",
    "version": 3
   },
   "file_extension": ".py",
   "mimetype": "text/x-python",
   "name": "python",
   "nbconvert_exporter": "python",
   "pygments_lexer": "ipython3",
   "version": "3.9.7"
  }
 },
 "nbformat": 4,
 "nbformat_minor": 5
}
