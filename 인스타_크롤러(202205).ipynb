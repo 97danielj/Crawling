{
 "cells": [
  {
   "cell_type": "code",
   "execution_count": 5,
   "metadata": {},
   "outputs": [],
   "source": [
    "import pandas as pd\n",
    "import numpy as np\n",
    "\n",
    "# 라이브러리 import\n",
    "# 라이브러리 : 필요한 도구\n",
    "from selenium import webdriver  # 라이브러리(모듈) 가져오라\n",
    "from selenium.webdriver import ActionChains as AC\n",
    "import edgedriver_autoinstaller\n",
    "from tqdm import tqdm\n",
    "from tqdm import tqdm_notebook\n",
    "import re\n",
    "from time import sleep\n",
    "import time\n",
    "\n",
    "# 워닝 무시\n",
    "import warnings\n",
    "warnings.filterwarnings('ignore')"
   ]
  },
  {
   "cell_type": "markdown",
   "metadata": {},
   "source": [
    "## (테스트용)크롤링 연구"
   ]
  },
  {
   "cell_type": "code",
   "execution_count": 4,
   "metadata": {},
   "outputs": [
    {
     "data": {
      "text/plain": [
       "'대연동맛집'"
      ]
     },
     "execution_count": 4,
     "metadata": {},
     "output_type": "execute_result"
    }
   ],
   "source": [
    "# 데이터 수집할 키워드 지정\n",
    "keyword = \"대연동맛집\"\n",
    "keyword"
   ]
  },
  {
   "cell_type": "code",
   "execution_count": 7,
   "metadata": {},
   "outputs": [],
   "source": [
    "# url에 검색 'keyword' 입력\n",
    "url = \"https://www.instagram.com/explore/tags/{}/\".format(keyword)\n",
    "\n",
    "edge_path = edgedriver_autoinstaller.install()\n",
    "driver = webdriver.Edge(edge_path)\n",
    "driver.get(url)"
   ]
  },
  {
   "cell_type": "raw",
   "metadata": {},
   "source": [
    "수동 로그인 "
   ]
  },
  {
   "cell_type": "code",
   "execution_count": 37,
   "metadata": {},
   "outputs": [],
   "source": [
    "# 첫번째 사진 클릭\n",
    "CSS_tran=\"div._9_92\"\n",
    "elements = driver.find_elements_by_css_selector(CSS_tran)   # 사진 클릭\n",
    "elements[9].click()"
   ]
  },
  {
   "cell_type": "code",
   "execution_count": 28,
   "metadata": {},
   "outputs": [
    {
     "data": {
      "text/plain": [
       "'https://scontent-ssn1-1.cdninstagram.com/v/t51.2885-15/283526613_3090390971222870_8174327617003946823_n.webp?stp=dst-jpg_e35_s640x640_sh0.08&_nc_ht=scontent-ssn1-1.cdninstagram.com&_nc_cat=102&_nc_ohc=HeKeRGjjg18AX8BYbXC&edm=APU89FABAAAA&ccb=7-5&oh=00_AT9-SQfwSl74VxtXAbr4oI8v40vDpt9iVt4-mzCDI9mglQ&oe=62951C96&_nc_sid=86f79a'"
      ]
     },
     "execution_count": 28,
     "metadata": {},
     "output_type": "execute_result"
    }
   ],
   "source": [
    "# 사진(pic) 크롤링\n",
    "overlays1 = CSS_tran                  # 사진창 속 사진   \n",
    "img = driver.find_element_by_css_selector('img._9_8_')   # 사진 선택\n",
    "img                          # 사진 url 크롤링 완료\n",
    "\n",
    "pic = img.get_attribute('src')                          # 사진 url 크롤링 완료\n",
    "pic"
   ]
  },
  {
   "cell_type": "code",
   "execution_count": 29,
   "metadata": {},
   "outputs": [
    {
     "data": {
      "text/plain": [
       "'5월 26, 2022'"
      ]
     },
     "execution_count": 29,
     "metadata": {},
     "output_type": "execute_result"
    }
   ],
   "source": [
    "# 날짜(date) 크롤링\n",
    "overlays2 = \"time._9-kl\"                  # 날짜 지정\n",
    "datum2 = driver.find_element_by_css_selector(overlays2)     # 날짜 선택\n",
    "datum2.get_attribute('title')"
   ]
  },
  {
   "cell_type": "code",
   "execution_count": 30,
   "metadata": {},
   "outputs": [
    {
     "ename": "NoSuchElementException",
     "evalue": "Message: no such element: Unable to locate element: {\"method\":\"css selector\",\"selector\":\"#mount_0_0_SG > div > div:nth-child(1) > div > div.rq0escxv.l9j0dhe7.du4w35lb > div > div > div.j83agx80.cbu4d94t.d6urw2fd.dp1hu0rb.l9j0dhe7.du4w35lb > div._a3gq > section > main > div._a02u._a02w > div._a02x > article > div > div._a1bn._9-f2._9-f7._9-fd._a8ww._9-fm > div > div > section._9-v2._a040 > div > div > div > a > div\"}\n  (Session info: MicrosoftEdge=101.0.1210.53)\nStacktrace:\nBacktrace:\n\tMicrosoft::Applications::Events::EventProperties::unpack [0x007E9643+57891]\n\tMicrosoft::Applications::Events::ISemanticContext::SetCommonField [0x006C8951+1436513]\n\tMicrosoft::Applications::Events::ILogConfiguration::operator* [0x004B436E+3470]\n\tMicrosoft::Applications::Events::GUID_t::GUID_t [0x004DDDF7+99719]\n\tMicrosoft::Applications::Events::GUID_t::GUID_t [0x004DDF71+100097]\n\tMicrosoft::Applications::Events::GUID_t::GUID_t [0x005015C2+245074]\n\tMicrosoft::Applications::Events::GUID_t::GUID_t [0x004F2064+182260]\n\tMicrosoft::Applications::Events::GUID_t::GUID_t [0x004FFE43+239059]\n\tMicrosoft::Applications::Events::GUID_t::GUID_t [0x004F1D96+181542]\n\tMicrosoft::Applications::Events::GUID_t::GUID_t [0x004D5066+63478]\n\tMicrosoft::Applications::Events::GUID_t::GUID_t [0x004D5DF6+66950]\n\tMicrosoft::Applications::Events::ILogManager::DispatchEventBroadcast [0x009E8E35+636757]\n\tMicrosoft::Applications::Events::ILogManager::DispatchEventBroadcast [0x00969E02+116514]\n\tMicrosoft::Applications::Events::ILogManager::DispatchEventBroadcast [0x00969AA7+115655]\n\tMicrosoft::Applications::Events::ILogManager::DispatchEventBroadcast [0x0096DB60+132224]\n\tMicrosoft::Applications::Events::ILogManager::DispatchEventBroadcast [0x0096A4EC+118284]\n\tMicrosoft::Applications::Events::ISemanticContext::SetCommonField [0x006DA7B7+1509831]\n\tMicrosoft::Applications::Events::ISemanticContext::SetCommonField [0x006E4508+1550104]\n\tMicrosoft::Applications::Events::ISemanticContext::SetCommonField [0x006E4692+1550498]\n\tMicrosoft::Applications::Events::ISemanticContext::SetCommonField [0x006F5EE2+1622258]\n\tBaseThreadInitThunk [0x7502FA29+25]\n\tRtlGetAppContainerNamedObjectPath [0x771A7A7E+286]\n\tRtlGetAppContainerNamedObjectPath [0x771A7A4E+238]\n",
     "output_type": "error",
     "traceback": [
      "\u001b[1;31m---------------------------------------------------------------------------\u001b[0m",
      "\u001b[1;31mNoSuchElementException\u001b[0m                    Traceback (most recent call last)",
      "\u001b[1;32m~\\AppData\\Local\\Temp/ipykernel_23364/2041051178.py\u001b[0m in \u001b[0;36m<module>\u001b[1;34m\u001b[0m\n\u001b[0;32m      1\u001b[0m \u001b[1;31m# 좋아요(like) 크롤링\u001b[0m\u001b[1;33m\u001b[0m\u001b[1;33m\u001b[0m\u001b[0m\n\u001b[0;32m      2\u001b[0m \u001b[0moverlays3\u001b[0m \u001b[1;33m=\u001b[0m \u001b[1;34m\"#mount_0_0_SG > div > div:nth-child(1) > div > div.rq0escxv.l9j0dhe7.du4w35lb > div > div > div.j83agx80.cbu4d94t.d6urw2fd.dp1hu0rb.l9j0dhe7.du4w35lb > div._a3gq > section > main > div._a02u._a02w > div._a02x > article > div > div._a1bn._9-f2._9-f7._9-fd._a8ww._9-fm > div > div > section._9-v2._a040 > div > div > div > a > div\"\u001b[0m                                        \u001b[1;31m# 리뷰창 속 날짜\u001b[0m\u001b[1;33m\u001b[0m\u001b[1;33m\u001b[0m\u001b[0m\n\u001b[1;32m----> 3\u001b[1;33m \u001b[0mdatum3\u001b[0m \u001b[1;33m=\u001b[0m \u001b[0mdriver\u001b[0m\u001b[1;33m.\u001b[0m\u001b[0mfind_element_by_css_selector\u001b[0m\u001b[1;33m(\u001b[0m\u001b[0moverlays3\u001b[0m\u001b[1;33m)\u001b[0m     \u001b[1;31m# 리뷰 선택\u001b[0m\u001b[1;33m\u001b[0m\u001b[1;33m\u001b[0m\u001b[0m\n\u001b[0m\u001b[0;32m      4\u001b[0m \u001b[0mlike\u001b[0m \u001b[1;33m=\u001b[0m \u001b[0mdatum3\u001b[0m\u001b[1;33m.\u001b[0m\u001b[0mtext\u001b[0m                                          \u001b[1;31m# 좋아요 크롤링 완료\u001b[0m\u001b[1;33m\u001b[0m\u001b[1;33m\u001b[0m\u001b[0m\n\u001b[0;32m      5\u001b[0m \u001b[0mlike\u001b[0m\u001b[1;33m\u001b[0m\u001b[1;33m\u001b[0m\u001b[0m\n",
      "\u001b[1;32m~\\anaconda3\\lib\\site-packages\\selenium\\webdriver\\remote\\webdriver.py\u001b[0m in \u001b[0;36mfind_element_by_css_selector\u001b[1;34m(self, css_selector)\u001b[0m\n\u001b[0;32m    807\u001b[0m             \u001b[0mstacklevel\u001b[0m\u001b[1;33m=\u001b[0m\u001b[1;36m2\u001b[0m\u001b[1;33m,\u001b[0m\u001b[1;33m\u001b[0m\u001b[1;33m\u001b[0m\u001b[0m\n\u001b[0;32m    808\u001b[0m         )\n\u001b[1;32m--> 809\u001b[1;33m         \u001b[1;32mreturn\u001b[0m \u001b[0mself\u001b[0m\u001b[1;33m.\u001b[0m\u001b[0mfind_element\u001b[0m\u001b[1;33m(\u001b[0m\u001b[0mby\u001b[0m\u001b[1;33m=\u001b[0m\u001b[0mBy\u001b[0m\u001b[1;33m.\u001b[0m\u001b[0mCSS_SELECTOR\u001b[0m\u001b[1;33m,\u001b[0m \u001b[0mvalue\u001b[0m\u001b[1;33m=\u001b[0m\u001b[0mcss_selector\u001b[0m\u001b[1;33m)\u001b[0m\u001b[1;33m\u001b[0m\u001b[1;33m\u001b[0m\u001b[0m\n\u001b[0m\u001b[0;32m    810\u001b[0m \u001b[1;33m\u001b[0m\u001b[0m\n\u001b[0;32m    811\u001b[0m     \u001b[1;32mdef\u001b[0m \u001b[0mfind_elements_by_css_selector\u001b[0m\u001b[1;33m(\u001b[0m\u001b[0mself\u001b[0m\u001b[1;33m,\u001b[0m \u001b[0mcss_selector\u001b[0m\u001b[1;33m)\u001b[0m \u001b[1;33m->\u001b[0m \u001b[0mList\u001b[0m\u001b[1;33m[\u001b[0m\u001b[0mWebElement\u001b[0m\u001b[1;33m]\u001b[0m\u001b[1;33m:\u001b[0m\u001b[1;33m\u001b[0m\u001b[1;33m\u001b[0m\u001b[0m\n",
      "\u001b[1;32m~\\anaconda3\\lib\\site-packages\\selenium\\webdriver\\remote\\webdriver.py\u001b[0m in \u001b[0;36mfind_element\u001b[1;34m(self, by, value)\u001b[0m\n\u001b[0;32m   1246\u001b[0m             \u001b[0mvalue\u001b[0m \u001b[1;33m=\u001b[0m \u001b[1;34m'[name=\"%s\"]'\u001b[0m \u001b[1;33m%\u001b[0m \u001b[0mvalue\u001b[0m\u001b[1;33m\u001b[0m\u001b[1;33m\u001b[0m\u001b[0m\n\u001b[0;32m   1247\u001b[0m \u001b[1;33m\u001b[0m\u001b[0m\n\u001b[1;32m-> 1248\u001b[1;33m         return self.execute(Command.FIND_ELEMENT, {\n\u001b[0m\u001b[0;32m   1249\u001b[0m             \u001b[1;34m'using'\u001b[0m\u001b[1;33m:\u001b[0m \u001b[0mby\u001b[0m\u001b[1;33m,\u001b[0m\u001b[1;33m\u001b[0m\u001b[1;33m\u001b[0m\u001b[0m\n\u001b[0;32m   1250\u001b[0m             'value': value})['value']\n",
      "\u001b[1;32m~\\anaconda3\\lib\\site-packages\\selenium\\webdriver\\remote\\webdriver.py\u001b[0m in \u001b[0;36mexecute\u001b[1;34m(self, driver_command, params)\u001b[0m\n\u001b[0;32m    423\u001b[0m         \u001b[0mresponse\u001b[0m \u001b[1;33m=\u001b[0m \u001b[0mself\u001b[0m\u001b[1;33m.\u001b[0m\u001b[0mcommand_executor\u001b[0m\u001b[1;33m.\u001b[0m\u001b[0mexecute\u001b[0m\u001b[1;33m(\u001b[0m\u001b[0mdriver_command\u001b[0m\u001b[1;33m,\u001b[0m \u001b[0mparams\u001b[0m\u001b[1;33m)\u001b[0m\u001b[1;33m\u001b[0m\u001b[1;33m\u001b[0m\u001b[0m\n\u001b[0;32m    424\u001b[0m         \u001b[1;32mif\u001b[0m \u001b[0mresponse\u001b[0m\u001b[1;33m:\u001b[0m\u001b[1;33m\u001b[0m\u001b[1;33m\u001b[0m\u001b[0m\n\u001b[1;32m--> 425\u001b[1;33m             \u001b[0mself\u001b[0m\u001b[1;33m.\u001b[0m\u001b[0merror_handler\u001b[0m\u001b[1;33m.\u001b[0m\u001b[0mcheck_response\u001b[0m\u001b[1;33m(\u001b[0m\u001b[0mresponse\u001b[0m\u001b[1;33m)\u001b[0m\u001b[1;33m\u001b[0m\u001b[1;33m\u001b[0m\u001b[0m\n\u001b[0m\u001b[0;32m    426\u001b[0m             response['value'] = self._unwrap_value(\n\u001b[0;32m    427\u001b[0m                 response.get('value', None))\n",
      "\u001b[1;32m~\\anaconda3\\lib\\site-packages\\selenium\\webdriver\\remote\\errorhandler.py\u001b[0m in \u001b[0;36mcheck_response\u001b[1;34m(self, response)\u001b[0m\n\u001b[0;32m    245\u001b[0m                 \u001b[0malert_text\u001b[0m \u001b[1;33m=\u001b[0m \u001b[0mvalue\u001b[0m\u001b[1;33m[\u001b[0m\u001b[1;34m'alert'\u001b[0m\u001b[1;33m]\u001b[0m\u001b[1;33m.\u001b[0m\u001b[0mget\u001b[0m\u001b[1;33m(\u001b[0m\u001b[1;34m'text'\u001b[0m\u001b[1;33m)\u001b[0m\u001b[1;33m\u001b[0m\u001b[1;33m\u001b[0m\u001b[0m\n\u001b[0;32m    246\u001b[0m             \u001b[1;32mraise\u001b[0m \u001b[0mexception_class\u001b[0m\u001b[1;33m(\u001b[0m\u001b[0mmessage\u001b[0m\u001b[1;33m,\u001b[0m \u001b[0mscreen\u001b[0m\u001b[1;33m,\u001b[0m \u001b[0mstacktrace\u001b[0m\u001b[1;33m,\u001b[0m \u001b[0malert_text\u001b[0m\u001b[1;33m)\u001b[0m  \u001b[1;31m# type: ignore[call-arg]  # mypy is not smart enough here\u001b[0m\u001b[1;33m\u001b[0m\u001b[1;33m\u001b[0m\u001b[0m\n\u001b[1;32m--> 247\u001b[1;33m         \u001b[1;32mraise\u001b[0m \u001b[0mexception_class\u001b[0m\u001b[1;33m(\u001b[0m\u001b[0mmessage\u001b[0m\u001b[1;33m,\u001b[0m \u001b[0mscreen\u001b[0m\u001b[1;33m,\u001b[0m \u001b[0mstacktrace\u001b[0m\u001b[1;33m)\u001b[0m\u001b[1;33m\u001b[0m\u001b[1;33m\u001b[0m\u001b[0m\n\u001b[0m\u001b[0;32m    248\u001b[0m \u001b[1;33m\u001b[0m\u001b[0m\n\u001b[0;32m    249\u001b[0m     \u001b[1;32mdef\u001b[0m \u001b[0m_value_or_default\u001b[0m\u001b[1;33m(\u001b[0m\u001b[0mself\u001b[0m\u001b[1;33m,\u001b[0m \u001b[0mobj\u001b[0m\u001b[1;33m:\u001b[0m \u001b[0mMapping\u001b[0m\u001b[1;33m[\u001b[0m\u001b[0m_KT\u001b[0m\u001b[1;33m,\u001b[0m \u001b[0m_VT\u001b[0m\u001b[1;33m]\u001b[0m\u001b[1;33m,\u001b[0m \u001b[0mkey\u001b[0m\u001b[1;33m:\u001b[0m \u001b[0m_KT\u001b[0m\u001b[1;33m,\u001b[0m \u001b[0mdefault\u001b[0m\u001b[1;33m:\u001b[0m \u001b[0m_VT\u001b[0m\u001b[1;33m)\u001b[0m \u001b[1;33m->\u001b[0m \u001b[0m_VT\u001b[0m\u001b[1;33m:\u001b[0m\u001b[1;33m\u001b[0m\u001b[1;33m\u001b[0m\u001b[0m\n",
      "\u001b[1;31mNoSuchElementException\u001b[0m: Message: no such element: Unable to locate element: {\"method\":\"css selector\",\"selector\":\"#mount_0_0_SG > div > div:nth-child(1) > div > div.rq0escxv.l9j0dhe7.du4w35lb > div > div > div.j83agx80.cbu4d94t.d6urw2fd.dp1hu0rb.l9j0dhe7.du4w35lb > div._a3gq > section > main > div._a02u._a02w > div._a02x > article > div > div._a1bn._9-f2._9-f7._9-fd._a8ww._9-fm > div > div > section._9-v2._a040 > div > div > div > a > div\"}\n  (Session info: MicrosoftEdge=101.0.1210.53)\nStacktrace:\nBacktrace:\n\tMicrosoft::Applications::Events::EventProperties::unpack [0x007E9643+57891]\n\tMicrosoft::Applications::Events::ISemanticContext::SetCommonField [0x006C8951+1436513]\n\tMicrosoft::Applications::Events::ILogConfiguration::operator* [0x004B436E+3470]\n\tMicrosoft::Applications::Events::GUID_t::GUID_t [0x004DDDF7+99719]\n\tMicrosoft::Applications::Events::GUID_t::GUID_t [0x004DDF71+100097]\n\tMicrosoft::Applications::Events::GUID_t::GUID_t [0x005015C2+245074]\n\tMicrosoft::Applications::Events::GUID_t::GUID_t [0x004F2064+182260]\n\tMicrosoft::Applications::Events::GUID_t::GUID_t [0x004FFE43+239059]\n\tMicrosoft::Applications::Events::GUID_t::GUID_t [0x004F1D96+181542]\n\tMicrosoft::Applications::Events::GUID_t::GUID_t [0x004D5066+63478]\n\tMicrosoft::Applications::Events::GUID_t::GUID_t [0x004D5DF6+66950]\n\tMicrosoft::Applications::Events::ILogManager::DispatchEventBroadcast [0x009E8E35+636757]\n\tMicrosoft::Applications::Events::ILogManager::DispatchEventBroadcast [0x00969E02+116514]\n\tMicrosoft::Applications::Events::ILogManager::DispatchEventBroadcast [0x00969AA7+115655]\n\tMicrosoft::Applications::Events::ILogManager::DispatchEventBroadcast [0x0096DB60+132224]\n\tMicrosoft::Applications::Events::ILogManager::DispatchEventBroadcast [0x0096A4EC+118284]\n\tMicrosoft::Applications::Events::ISemanticContext::SetCommonField [0x006DA7B7+1509831]\n\tMicrosoft::Applications::Events::ISemanticContext::SetCommonField [0x006E4508+1550104]\n\tMicrosoft::Applications::Events::ISemanticContext::SetCommonField [0x006E4692+1550498]\n\tMicrosoft::Applications::Events::ISemanticContext::SetCommonField [0x006F5EE2+1622258]\n\tBaseThreadInitThunk [0x7502FA29+25]\n\tRtlGetAppContainerNamedObjectPath [0x771A7A7E+286]\n\tRtlGetAppContainerNamedObjectPath [0x771A7A4E+238]\n"
     ]
    }
   ],
   "source": [
    "# 좋아요(like) 크롤링\n",
    "overlays3 = \"#mount_0_0_SG > div > div:nth-child(1) > div > div.rq0escxv.l9j0dhe7.du4w35lb > div > div > div.j83agx80.cbu4d94t.d6urw2fd.dp1hu0rb.l9j0dhe7.du4w35lb > div._a3gq > section > main > div._a02u._a02w > div._a02x > article > div > div._a1bn._9-f2._9-f7._9-fd._a8ww._9-fm > div > div > section._9-v2._a040 > div > div > div > a > div\"                                        # 리뷰창 속 날짜\n",
    "datum3 = driver.find_element_by_css_selector(overlays3)     # 리뷰 선택\n",
    "like = datum3.text                                          # 좋아요 크롤링 완료\n",
    "like"
   ]
  },
  {
   "cell_type": "code",
   "execution_count": 40,
   "metadata": {},
   "outputs": [
    {
     "data": {
      "text/plain": [
       "'#압구정로데오'"
      ]
     },
     "execution_count": 40,
     "metadata": {},
     "output_type": "execute_result"
    }
   ],
   "source": [
    "# 해시태그(tag) 크롤링\n",
    "overlays4 = \".xil3i\"                                         \n",
    "datum3 = driver.find_elements_by_css_selector(overlays4)    # 태그 선택\n",
    "datum3[0].text"
   ]
  },
  {
   "cell_type": "code",
   "execution_count": 41,
   "metadata": {},
   "outputs": [
    {
     "data": {
      "text/plain": [
       "['#압구정로데오',\n",
       " '#화춘옥',\n",
       " '#쎄럽_강남',\n",
       " '#도산공원맛집',\n",
       " '#청담맛집',\n",
       " '#압구정로데오맛집',\n",
       " '#강남맛집',\n",
       " '#압구정맛집',\n",
       " '#압구정역맛집',\n",
       " '#강남역맛집',\n",
       " '#강남맛집',\n",
       " '#강남회식',\n",
       " '#강남역회식',\n",
       " '#청담역맛집',\n",
       " '#강남데이트',\n",
       " '#기념일맛집']"
      ]
     },
     "execution_count": 41,
     "metadata": {},
     "output_type": "execute_result"
    }
   ],
   "source": [
    "tag_list = []\n",
    "for i in range(len(datum3)):\n",
    "    tag_list.append(datum3[i].text)\n",
    "tag_list"
   ]
  },
  {
   "cell_type": "code",
   "execution_count": 44,
   "metadata": {
    "scrolled": false
   },
   "outputs": [
    {
     "ename": "ElementClickInterceptedException",
     "evalue": "Message: element click intercepted: Element <button class=\"_9-mn _9-mo\" type=\"button\">...</button> is not clickable at point (460, 30). Other element would receive the click: <div class=\"gs1a9yip rq0escxv j83agx80 cbu4d94t buofh1pr taijpn5t\" style=\"--fds-black:#000000; --fds-black-alpha-05:rgba(0, 0, 0, 0.05); --fds-black-alpha-10:rgba(0, 0, 0, 0.1); --fds-black-alpha-15:rgba(0, 0, 0, 0.15); --fds-black-alpha-20:rgba(0, 0, 0, 0.2); --fds-black-alpha-30:rgba(0, 0, 0, 0.3); --fds-black-alpha-40:rgba(0, 0, 0, 0.4); --fds-black-alpha-50:rgba(0, 0, 0, 0.5); --fds-black-alpha-60:rgba(0, 0, 0, 0.6); --fds-black-alpha-80:rgba(0, 0, 0, 0.8); --fds-blue-05:#ECF3FF; --fds-blue-30:#AAC9FF; --fds-blue-40:#77A7FF; --fds-blue-60:#1877F2; --fds-blue-70:#2851A3; --fds-blue-80:#1D3C78; --fds-button-text:#444950; --fds-comment-background:#F2F3F5; --fds-dark-mode-gray-35:#CCCCCC; --fds-dark-mode-gray-50:#828282; --fds-dark-mode-gray-70:#4A4A4A; --fds-dark-mode-gray-80:#373737; --fds-dark-mode-gray-90:#282828; --fds-dark-mode-gray-100:#1C1C1C; --fds-gray-00:#F5F6F7; --fds-gray-05:#F2F3F5; --fds-gray-10:#EBEDF0; --fds-gray-20:#DADDE1; --fds-gray-25:#CCD0D5; --fds-gray-30:#BEC3C9; --fds-gray-45:#8D949E; --fds-gray-70:#606770; --fds-gray-80:#444950; --fds-gray-90:#303338; --fds-gray-100:#1C1E21; --fds-green-55:#00A400; --fds-highlight:#3578E5; --fds-highlight-cell-background:#ECF3FF; --fds-primary-icon:#1C1E21; --fds-primary-text:#1C1E21; --fds-red-55:#FA383E; --fds-soft:cubic-bezier(0.08,0.52,0.52,1); --fds-spectrum-aluminum-tint-70:#E4F0F6; --fds-spectrum-blue-gray-tint-70:#CFD1D5; --fds-spectrum-cherry:#F35369; --fds-spectrum-cherry-tint-70:#FBCCD2; --fds-spectrum-grape-tint-70:#DDD5F0; --fds-spectrum-grape-tint-90:#F4F1FA; --fds-spectrum-lemon-dark-1:#F5C33B; --fds-spectrum-lemon-tint-70:#FEF2D1; --fds-spectrum-lime:#A3CE71; --fds-spectrum-lime-tint-70:#E4F0D5; --fds-spectrum-orange-tint-70:#FCDEC5; --fds-spectrum-orange-tint-90:#FEF4EC; --fds-spectrum-seafoam-tint-70:#CAEEF9; --fds-spectrum-slate-dark-2:#89A1AC; --fds-spectrum-slate-tint-70:#EAEFF2; --fds-spectrum-teal:#6BCEBB; --fds-spectrum-teal-dark-1:#4DBBA6; --fds-spectrum-teal-dark-2:#31A38D; --fds-spectrum-teal-tint-70:#D2F0EA; --fds-spectrum-teal-tint-90:#F0FAF8; --fds-spectrum-tomato:#FB724B; --fds-spectrum-tomato-tint-30:#F38E7B; --fds-spectrum-tomato-tint-90:#FDEFED; --fds-strong:cubic-bezier(0.12,0.8,0.32,1); --fds-white:#FFFFFF; --fds-white-alpha-05:rgba(255, 255, 255, 0.05); --fds-white-alpha-10:rgba(255, 255, 255, 0.1); --fds-white-alpha-20:rgba(255, 255, 255, 0.2); --fds-white-alpha-30:rgba(255, 255, 255, 0.3); --fds-white-alpha-40:rgba(255, 255, 255, 0.4); --fds-white-alpha-50:rgba(255, 255, 255, 0.5); --fds-white-alpha-60:rgba(255, 255, 255, 0.6); --fds-white-alpha-80:rgba(255, 255, 255, 0.8); --fds-yellow-20:#FFBA00; --accent:#0095F6; --always-white:#FFFFFF; --always-black:black; --always-dark-gradient:linear-gradient(rgba(0,0,0,0), rgba(0,0,0,0.6)); --always-dark-overlay:rgba(0, 0, 0, 0.4); --always-light-overlay:rgba(255, 255, 255, 0.4); --always-gray-40:#65676B; --always-gray-75:#BCC0C4; --always-gray-95:#F0F2F5; --attachment-footer-background:#F0F2F5; --background-deemphasized:#F0F2F5; --base-blue:#1877F2; --base-cherry:#F3425F; --base-grape:#9360F7; --base-lemon:#F7B928; --base-lime:#45BD62; --base-pink:#FF66BF; --base-seafoam:#54C7EC; --base-teal:#2ABBA7; --base-tomato:#FB724B; --blue-link:#00376B; --card-background:#FFFFFF; --card-background-flat:#F7F8FA; --comment-background:#F0F2F5; --comment-footer-background:#F6F9FA; --dataviz-primary-1:rgb(48,200,180); --disabled-button-background:rgba(0, 149, 246, 0.3); --disabled-button-text:#FFFFFF; --disabled-icon:#BCC0C4; --disabled-text:#BCC0C4; --divider:#DBDBDB; --event-date:#F3425F; --fb-wordmark:#1877F2; --filter-accent:invert(39%) sepia(57%) saturate(200%) saturate(200%) saturate(200%) saturate(200%) saturate(200%) saturate(147.75%) hue-rotate(202deg) brightness(97%) contrast(96%); --filter-always-white:invert(100%); --filter-disabled-icon:invert(80%) sepia(6%) saturate(200%) saturate(120%) hue-rotate(173deg) brightness(98%) contrast(89%); --filter-placeholder-icon:invert(59%) sepia(11%) saturate(200%) saturate(135%) hue-rotate(176deg) brightness(96%) contrast(94%); --filter-primary-icon:invert(8%) sepia(10%) saturate(200%) saturate(200%) saturate(166%) hue-rotate(177deg) brightness(104%) contrast(91%); --filter-secondary-icon:invert(39%) sepia(21%) saturate(200%) saturate(109.5%) hue-rotate(174deg) brightness(94%) contrast(86%); --filter-warning-icon:invert(77%) sepia(29%) saturate(200%) saturate(200%) saturate(200%) saturate(200%) saturate(200%) saturate(128%) hue-rotate(359deg) brightness(102%) contrast(107%); --filter-blue-link-icon:invert(30%) sepia(98%) saturate(200%) saturate(200%) saturate(200%) saturate(166.5%) hue-rotate(192deg) brightness(91%) contrast(101%); --filter-positive:invert(37%) sepia(61%) saturate(200%) saturate(200%) saturate(200%) saturate(200%) saturate(115%) hue-rotate(91deg) brightness(97%) contrast(105%); --filter-negative:invert(25%) sepia(33%) saturate(200%) saturate(200%) saturate(200%) saturate(200%) saturate(200%) saturate(200%) saturate(110%) hue-rotate(345deg) brightness(132%) contrast(96%); --glimmer-spinner-icon:#65676B; --hero-banner-background:#FFFFFF; --hosted-view-selected-state:rgba(45, 136, 255, 0.1); --highlight-bg:#E7F3FF; --hover-overlay:rgba(0, 0, 0, 0.05); --media-hover:rgba(68, 73, 80, 0.15); --media-inner-border:rgba(0, 0, 0, 0.1); --media-outer-border:#FFFFFF; --media-pressed:rgba(68, 73, 80, 0.35); --messenger-card-background:#FFFFFF; --messenger-reply-background:#F0F2F5; --overlay-alpha-80:rgba(0, 0, 0, 0.65); --overlay-on-media:rgba(0, 0, 0, 0.6); --nav-bar-background:#FFFFFF; --nav-bar-background-gradient:linear-gradient(to top, #FFFFFF, rgba(255,255,255.9), rgba(255,255,255,0.7), rgba(255,255,255,0.4), rgba(255,255,255,0)); --nav-bar-background-gradient-wash:linear-gradient(to top, #F0F2F5, rgba(240,242,245.9), rgba(240,242,245,0.7), rgba(240,242,245,0.4), rgba(240,242,245,0)); --negative:hsl(350, 87%, 55%); --negative-background:hsl(350, 87%, 55%, 20%); --new-notification-background:#E7F3FF; --non-media-pressed:rgba(68, 73, 80, 0.15); --non-media-pressed-on-dark:rgba(255, 255, 255, 0.3); --notification-badge:#e41e3f; --placeholder-icon:#8A8D91; --placeholder-text:#8A8D91; --placeholder-text-on-media:rgba(255, 255, 255, 0.5); --popover-background:#FFFFFF; --positive:#31A24C; --positive-background:#DEEFE1; --press-overlay:rgba(0, 0, 0, 0.1); --primary-button-background:#0095F6; --primary-button-pressed:#77A7FF; --primary-button-text:#FFFFFF; --primary-deemphasized-button-background:rgba(0, 149, 246, 0.1); --primary-deemphasized-button-pressed:rgba(0, 149, 246, 0.05); --primary-deemphasized-button-pressed-overlay:rgba(0, 149, 246, 0.15); --primary-deemphasized-button-text:#0095F6; --primary-icon:#262626; --primary-text:#262626; --primary-text-on-media:#FFFFFF; --primary-web-focus-indicator:#D24294; --progress-ring-neutral-background:rgba(0, 0, 0, 0.2); --progress-ring-neutral-foreground:#000000; --progress-ring-on-media-background:rgba(255, 255, 255, 0.2); --progress-ring-on-media-foreground:#FFFFFF; --progress-ring-blue-background:rgba(24, 119, 242, 0.2); --progress-ring-blue-foreground:hsl(214, 89%, 52%); --progress-ring-disabled-background:rgba(190,195,201, 0.2); --progress-ring-disabled-foreground:#BEC3C9; --rating-star-active:#EB660D; --scroll-thumb:#BCC0C4; --scroll-shadow:0 1px 2px rgba(0, 0, 0, 0.1), 0 -1px rgba(0, 0, 0, 0.1) inset; --secondary-button-background:transparent; --secondary-button-background-floating:#ffffff; --secondary-button-background-on-dark:rgba(0, 0, 0, 0.4); --secondary-button-pressed:rgba(0, 0, 0, 0.05); --secondary-button-stroke:transparent; --secondary-button-text:#0095F6; --secondary-icon:#8E8E8E; --secondary-text:#8E8E8E; --secondary-text-on-media:rgba(255, 255, 255, 0.9); --section-header-text:#4B4C4F; --shadow-1:rgba(0, 0, 0, 0.1); --shadow-2:rgba(0, 0, 0, 0.2); --shadow-5:rgba(0, 0, 0, 0.5); --shadow-8:rgba(0, 0, 0, 0.8); --shadow-inset:rgba(255, 255, 255, 0.5); --surface-background:#FFFFFF; --text-highlight:rgba(24, 119, 242, 0.2); --toggle-active-background:#E7F3FF; --toggle-active-icon:rgb(24, 119, 242); --toggle-active-text:rgb(24, 119, 242); --toggle-button-active-background:#E7F3FF; --wash:#FAFAFA; --web-wash:#FAFAFA; --warning:hsl(40, 89%, 52%); --fb-logo-color:#2D88FF; --dialog-anchor-vertical-padding:56px; --header-height:0px; --global-panel-width:0px; --button-corner-radius:4px; --card-corner-radius:4px; --fds-animation-enter-exit-in:cubic-bezier(0.14, 1, 0.34, 1); --fds-animation-enter-exit-out:cubic-bezier(0.45, 0.1, 0.2, 1); --fds-animation-swap-shuffle-in:cubic-bezier(0.14, 1, 0.34, 1); --fds-animation-swap-shuffle-out:cubic-bezier(0.45, 0.1, 0.2, 1); --fds-animation-move-in:cubic-bezier(0.17, 0.17, 0, 1); --fds-animation-move-out:cubic-bezier(0.17, 0.17, 0, 1); --fds-animation-expand-collapse-in:cubic-bezier(0.17, 0.17, 0, 1); --fds-animation-expand-collapse-out:cubic-bezier(0.17, 0.17, 0, 1); --fds-animation-passive-move-in:cubic-bezier(0.5, 0, 0.1, 1); --fds-animation-passive-move-out:cubic-bezier(0.5, 0, 0.1, 1); --fds-animation-quick-move-in:cubic-bezier(0.1, 0.9, 0.2, 1); --fds-animation-quick-move-out:cubic-bezier(0.1, 0.9, 0.2, 1); --fds-animation-fade-in:cubic-bezier(0, 0, 1, 1); --fds-animation-fade-out:cubic-bezier(0, 0, 1, 1); --fds-duration-extra-extra-short-in:100ms; --fds-duration-extra-extra-short-out:100ms; --fds-duration-extra-short-in:200ms; --fds-duration-extra-short-out:150ms; --fds-duration-short-in:280ms; --fds-duration-short-out:200ms; --fds-duration-medium-in:400ms; --fds-duration-medium-out:350ms; --fds-duration-long-in:500ms; --fds-duration-long-out:350ms; --fds-duration-extra-long-in:1000ms; --fds-duration-extra-long-out:1000ms; --fds-duration-none:0ms; --fds-fast:200ms; --fds-slow:400ms; --font-family-apple:system-ui, -apple-system, BlinkMacSystemFont, &quot;.SFNSText-Regular&quot;, sans-serif; --font-family-code:ui-monospace, Menlo, Consolas, Monaco, monospace; --font-family-default:Helvetica, Arial, sans-serif; --font-family-segoe:Segoe UI Historic, Segoe UI, Helvetica, Arial, sans-serif; --dataviz-primary-2:rgb(134,218,255); --dataviz-primary-3:rgb(95,170,255); --dataviz-secondary-1:rgb(118,62,230); --dataviz-secondary-2:rgb(147,96,247); --dataviz-secondary-3:rgb(219,26,139); --dataviz-supplementary-1:rgb(255,122,105); --dataviz-supplementary-2:rgb(241,168,23); --dataviz-supplementary-3:rgb(49,162,76); --dataviz-supplementary-4:rgb(50,52,54); --base-unit:4px; --breakpoint-medium-width:1536px; --breakpoint-small-width:1024px; --challenge-width:460px; --cluster-card-border-radius:8px; --creation-composer-height:81px; --creation-header-composer-height:126px; --desktop-cluster-card-height:89px; --desktop-collapsed-nav-height:52px; --desktop-grid-item-margin:28px; --desktop-in-feed-story-item-height:208px; --desktop-in-feed-story-item-width:116px; --desktop-large-modal-max-height:781px; --desktop-large-modal-max-width:1491px; --desktop-large-modal-min-height:664px; --desktop-large-modal-min-width:908px; --desktop-nav-anim-duration:0.2s; --desktop-nav-search-box-width:215px; --desktop-regular-nav-height:60px; --desktop-skinny-nav-height:60px; --desktop-nav-height:60px; --direct-attachment-image-grid-border-size:1px; --direct-attachment-image-grid-item-size:78px; --direct-attachment-image-grid-width:236px; --direct-attachment-story-height:150px; --direct-attachment-story-large-height:256px; --direct-attachment-story-large-width:164px; --direct-attachment-story-width:84px; --direct-message-margin:8px; --direct-message-max-width:236px; --extra-small-screen-max:413px; --fb-signup-page-profile-pic-size:88px; --feed-width-wide:614px; --feed-with-padding-threshold-min:640px; --font-family-system:-apple-system, BlinkMacSystemFont, &quot;Segoe UI&quot;, Roboto, Helvetica, Arial, sans-serif; --font-weight-system-bold:700; --font-weight-system-extra-bold:800; --font-weight-system-extra-light:200; --font-weight-system-light:300; --font-weight-system-medium:500; --font-weight-system-regular:400; --font-weight-system-semibold:600; --grid-column-width-modal:6.25%; --grid-column-width:5.55556%; --hscc-collapse-transition-duration:0.3s; --igui-border-radius:3px; --in-feed-story-item-height:240px; --in-feed-story-item-width:135px; --input-border-radius:6px; --large-screen-min:876px; --like-animation-duration:1000ms; --live-video-border-radius:4px; --live-video-right-col-width:336px; --media-info:335px; --medium-screen-max:875px; --medium-screen-min:736px; --mobile-cluster-card-height:74px; --mobile-grid-item-margin:2px; --mobile-nav-height:45px; --modal-border-radius:12px; --modal-padding:16px; --modal-z-index:100; --photo:600px; --post-modal-large-screen-min:1536px; --post-modal-small-screen-max:1366px; --refinement-section-height:50px; --scrollable-content-header-height-large:56px; --scrollable-content-header-height:44px; --search-modal-height-expanded:450px; --search-modal-height:362px; --search-modal-top-offset:12px; --search-result-height:50px; --search-result-list-width:375px; --site-padding-top:30px; --site-width-narrow:600px; --site-width-wide:935px; --small-screen-max:735px; --small-screen-min:414px; --story-cube-shading-duration:200ms; --story-desktop-margin-bottom:26px; --story-desktop-margin-top:82px; --story-gallery-preview-scale-correction:2.5; --story-progressbar-update-tick:0.1s; --story-swap-animation-duration:350ms; --system-10-font-size:10px; --system-10-line-height:12px; --system-11-font-size:11px; --system-11-line-height:13px; --system-12-font-size:12px; --system-12-line-height:16px; --system-14-font-size:14px; --system-14-line-height:18px; --system-16-font-size:16px; --system-16-line-height:24px; --system-18-font-size:18px; --system-18-line-height:24px; --system-20-font-size:20px; --system-20-line-height:25px; --system-22-font-size:22px; --system-22-line-height:26px; --system-24-font-size:24px; --system-24-line-height:27px; --system-26-font-size:26px; --system-26-line-height:28px; --system-28-font-size:28px; --system-28-line-height:32px; --system-32-font-size:32px; --system-32-line-height:40px; --blue-0:#f5fbff; --blue-2:#b3dbff; --blue-4:#47afff; --blue-5:#0095f6; --blue-6:#0074cc; --blue-7:#0057a3; --blue-8:#00376b; --blue-9:#002952; --challenge-link:54,54,54; --clr-separator:#efefef; --clr_red_dark_30:#af2634; --cyan-5:#27c4f5; --docpen-lightgrey:243,243,243; --fb-connect-blue:#4f67b0; --green-4:#78de45; --green-5:#58c322; --green-6:#37a600; --grey-1:#efefef; --grey-2:#dbdbdb; --grey-4:#a8a8a8; --grey-5:#8e8e8e; --grey-6:#737373; --grey-8:#363636; --grey-9:#262626; --ig-badge:237,73,86; --ig-elevated-background:255,255,255; --ig-elevated-separator:219,219,219; --ig-error-or-destructive:237,73,86; --ig-facebook-blue:53,121,234; --ig-focus-stroke:168,168,168; --ig-highlight-background:239,239,239; --ig-link:0,55,107; --ig-primary-background:255,255,255; --ig-primary-button:0,149,246; --ig-primary-text:38,38,38; --ig-secondary-background:250,250,250; --ig-secondary-button:38,38,38; --ig-secondary-text:142,142,142; --ig-separator:219,219,219; --ig-stroke:219,219,219; --ig-success:88,195,34; --ig-temporary-highlight:245,251,255; --ig-tertiary-text:199,199,199; --ig-text-on-color:255,255,255; --orange-5:#fd8d32; --pink-5:#d10869; --post-separator:239,239,239; --post-step-indicator:168,168,168; --purple-5:#a307ba; --red-4:#ff6874; --red-5:#ed4956; --red-6:#c62330; --red-7:#a70311; --tos-box-shadow:0,0,0; --web-always-black:0,0,0; --web-always-white:255,255,255; --web-secondary-action:224,241,255; --yellow-5:#fdcb5c;\">...</div>\n  (Session info: MicrosoftEdge=101.0.1210.53)\nStacktrace:\nBacktrace:\n\tMicrosoft::Applications::Events::EventProperties::unpack [0x007E9643+57891]\n\tMicrosoft::Applications::Events::ISemanticContext::SetCommonField [0x006C8951+1436513]\n\tMicrosoft::Applications::Events::ILogConfiguration::operator* [0x004B436E+3470]\n\tMicrosoft::Applications::Events::GUID_t::GUID_t [0x004E2C03+119699]\n\tMicrosoft::Applications::Events::GUID_t::GUID_t [0x004E154C+113884]\n\tMicrosoft::Applications::Events::GUID_t::GUID_t [0x004DFA59+106985]\n\tMicrosoft::Applications::Events::GUID_t::GUID_t [0x004DEFB3+104259]\n\tMicrosoft::Applications::Events::GUID_t::GUID_t [0x004D6888+69656]\n\tMicrosoft::Applications::Events::GUID_t::GUID_t [0x004F201C+182188]\n\tMicrosoft::Applications::Events::GUID_t::GUID_t [0x004D62E1+68209]\n\tMicrosoft::Applications::Events::GUID_t::GUID_t [0x004F2344+182996]\n\tMicrosoft::Applications::Events::GUID_t::GUID_t [0x004FFE43+239059]\n\tMicrosoft::Applications::Events::GUID_t::GUID_t [0x004F1D96+181542]\n\tMicrosoft::Applications::Events::GUID_t::GUID_t [0x004D5066+63478]\n\tMicrosoft::Applications::Events::GUID_t::GUID_t [0x004D5DF6+66950]\n\tMicrosoft::Applications::Events::ILogManager::DispatchEventBroadcast [0x009E8E35+636757]\n\tMicrosoft::Applications::Events::ILogManager::DispatchEventBroadcast [0x00969E02+116514]\n\tMicrosoft::Applications::Events::ILogManager::DispatchEventBroadcast [0x00969AA7+115655]\n\tMicrosoft::Applications::Events::ILogManager::DispatchEventBroadcast [0x0096DB60+132224]\n\tMicrosoft::Applications::Events::ILogManager::DispatchEventBroadcast [0x0096A4EC+118284]\n\tMicrosoft::Applications::Events::ISemanticContext::SetCommonField [0x006DA7B7+1509831]\n\tMicrosoft::Applications::Events::ISemanticContext::SetCommonField [0x006E4508+1550104]\n\tMicrosoft::Applications::Events::ISemanticContext::SetCommonField [0x006E4692+1550498]\n\tMicrosoft::Applications::Events::ISemanticContext::SetCommonField [0x006F5EE2+1622258]\n\tBaseThreadInitThunk [0x7502FA29+25]\n\tRtlGetAppContainerNamedObjectPath [0x771A7A7E+286]\n\tRtlGetAppContainerNamedObjectPath [0x771A7A4E+238]\n",
     "output_type": "error",
     "traceback": [
      "\u001b[1;31m---------------------------------------------------------------------------\u001b[0m",
      "\u001b[1;31mElementClickInterceptedException\u001b[0m          Traceback (most recent call last)",
      "\u001b[1;32m~\\AppData\\Local\\Temp/ipykernel_23364/475069274.py\u001b[0m in \u001b[0;36m<module>\u001b[1;34m\u001b[0m\n\u001b[0;32m      2\u001b[0m \u001b[0mCSS_tran2\u001b[0m\u001b[1;33m=\u001b[0m\u001b[1;34m\"button._9-mn\"\u001b[0m\u001b[1;33m\u001b[0m\u001b[1;33m\u001b[0m\u001b[0m\n\u001b[0;32m      3\u001b[0m \u001b[0mbutton\u001b[0m \u001b[1;33m=\u001b[0m \u001b[0mdriver\u001b[0m\u001b[1;33m.\u001b[0m\u001b[0mfind_element_by_css_selector\u001b[0m\u001b[1;33m(\u001b[0m\u001b[0mCSS_tran2\u001b[0m\u001b[1;33m)\u001b[0m  \u001b[1;31m# 다음 버튼 find\u001b[0m\u001b[1;33m\u001b[0m\u001b[1;33m\u001b[0m\u001b[0m\n\u001b[1;32m----> 4\u001b[1;33m \u001b[0mbutton\u001b[0m\u001b[1;33m.\u001b[0m\u001b[0mclick\u001b[0m\u001b[1;33m(\u001b[0m\u001b[1;33m)\u001b[0m\u001b[1;33m\u001b[0m\u001b[1;33m\u001b[0m\u001b[0m\n\u001b[0m",
      "\u001b[1;32m~\\anaconda3\\lib\\site-packages\\selenium\\webdriver\\remote\\webelement.py\u001b[0m in \u001b[0;36mclick\u001b[1;34m(self)\u001b[0m\n\u001b[0;32m     79\u001b[0m     \u001b[1;32mdef\u001b[0m \u001b[0mclick\u001b[0m\u001b[1;33m(\u001b[0m\u001b[0mself\u001b[0m\u001b[1;33m)\u001b[0m \u001b[1;33m->\u001b[0m \u001b[1;32mNone\u001b[0m\u001b[1;33m:\u001b[0m\u001b[1;33m\u001b[0m\u001b[1;33m\u001b[0m\u001b[0m\n\u001b[0;32m     80\u001b[0m         \u001b[1;34m\"\"\"Clicks the element.\"\"\"\u001b[0m\u001b[1;33m\u001b[0m\u001b[1;33m\u001b[0m\u001b[0m\n\u001b[1;32m---> 81\u001b[1;33m         \u001b[0mself\u001b[0m\u001b[1;33m.\u001b[0m\u001b[0m_execute\u001b[0m\u001b[1;33m(\u001b[0m\u001b[0mCommand\u001b[0m\u001b[1;33m.\u001b[0m\u001b[0mCLICK_ELEMENT\u001b[0m\u001b[1;33m)\u001b[0m\u001b[1;33m\u001b[0m\u001b[1;33m\u001b[0m\u001b[0m\n\u001b[0m\u001b[0;32m     82\u001b[0m \u001b[1;33m\u001b[0m\u001b[0m\n\u001b[0;32m     83\u001b[0m     \u001b[1;32mdef\u001b[0m \u001b[0msubmit\u001b[0m\u001b[1;33m(\u001b[0m\u001b[0mself\u001b[0m\u001b[1;33m)\u001b[0m\u001b[1;33m:\u001b[0m\u001b[1;33m\u001b[0m\u001b[1;33m\u001b[0m\u001b[0m\n",
      "\u001b[1;32m~\\anaconda3\\lib\\site-packages\\selenium\\webdriver\\remote\\webelement.py\u001b[0m in \u001b[0;36m_execute\u001b[1;34m(self, command, params)\u001b[0m\n\u001b[0;32m    708\u001b[0m             \u001b[0mparams\u001b[0m \u001b[1;33m=\u001b[0m \u001b[1;33m{\u001b[0m\u001b[1;33m}\u001b[0m\u001b[1;33m\u001b[0m\u001b[1;33m\u001b[0m\u001b[0m\n\u001b[0;32m    709\u001b[0m         \u001b[0mparams\u001b[0m\u001b[1;33m[\u001b[0m\u001b[1;34m'id'\u001b[0m\u001b[1;33m]\u001b[0m \u001b[1;33m=\u001b[0m \u001b[0mself\u001b[0m\u001b[1;33m.\u001b[0m\u001b[0m_id\u001b[0m\u001b[1;33m\u001b[0m\u001b[1;33m\u001b[0m\u001b[0m\n\u001b[1;32m--> 710\u001b[1;33m         \u001b[1;32mreturn\u001b[0m \u001b[0mself\u001b[0m\u001b[1;33m.\u001b[0m\u001b[0m_parent\u001b[0m\u001b[1;33m.\u001b[0m\u001b[0mexecute\u001b[0m\u001b[1;33m(\u001b[0m\u001b[0mcommand\u001b[0m\u001b[1;33m,\u001b[0m \u001b[0mparams\u001b[0m\u001b[1;33m)\u001b[0m\u001b[1;33m\u001b[0m\u001b[1;33m\u001b[0m\u001b[0m\n\u001b[0m\u001b[0;32m    711\u001b[0m \u001b[1;33m\u001b[0m\u001b[0m\n\u001b[0;32m    712\u001b[0m     \u001b[1;32mdef\u001b[0m \u001b[0mfind_element\u001b[0m\u001b[1;33m(\u001b[0m\u001b[0mself\u001b[0m\u001b[1;33m,\u001b[0m \u001b[0mby\u001b[0m\u001b[1;33m=\u001b[0m\u001b[0mBy\u001b[0m\u001b[1;33m.\u001b[0m\u001b[0mID\u001b[0m\u001b[1;33m,\u001b[0m \u001b[0mvalue\u001b[0m\u001b[1;33m=\u001b[0m\u001b[1;32mNone\u001b[0m\u001b[1;33m)\u001b[0m\u001b[1;33m:\u001b[0m\u001b[1;33m\u001b[0m\u001b[1;33m\u001b[0m\u001b[0m\n",
      "\u001b[1;32m~\\anaconda3\\lib\\site-packages\\selenium\\webdriver\\remote\\webdriver.py\u001b[0m in \u001b[0;36mexecute\u001b[1;34m(self, driver_command, params)\u001b[0m\n\u001b[0;32m    423\u001b[0m         \u001b[0mresponse\u001b[0m \u001b[1;33m=\u001b[0m \u001b[0mself\u001b[0m\u001b[1;33m.\u001b[0m\u001b[0mcommand_executor\u001b[0m\u001b[1;33m.\u001b[0m\u001b[0mexecute\u001b[0m\u001b[1;33m(\u001b[0m\u001b[0mdriver_command\u001b[0m\u001b[1;33m,\u001b[0m \u001b[0mparams\u001b[0m\u001b[1;33m)\u001b[0m\u001b[1;33m\u001b[0m\u001b[1;33m\u001b[0m\u001b[0m\n\u001b[0;32m    424\u001b[0m         \u001b[1;32mif\u001b[0m \u001b[0mresponse\u001b[0m\u001b[1;33m:\u001b[0m\u001b[1;33m\u001b[0m\u001b[1;33m\u001b[0m\u001b[0m\n\u001b[1;32m--> 425\u001b[1;33m             \u001b[0mself\u001b[0m\u001b[1;33m.\u001b[0m\u001b[0merror_handler\u001b[0m\u001b[1;33m.\u001b[0m\u001b[0mcheck_response\u001b[0m\u001b[1;33m(\u001b[0m\u001b[0mresponse\u001b[0m\u001b[1;33m)\u001b[0m\u001b[1;33m\u001b[0m\u001b[1;33m\u001b[0m\u001b[0m\n\u001b[0m\u001b[0;32m    426\u001b[0m             response['value'] = self._unwrap_value(\n\u001b[0;32m    427\u001b[0m                 response.get('value', None))\n",
      "\u001b[1;32m~\\anaconda3\\lib\\site-packages\\selenium\\webdriver\\remote\\errorhandler.py\u001b[0m in \u001b[0;36mcheck_response\u001b[1;34m(self, response)\u001b[0m\n\u001b[0;32m    245\u001b[0m                 \u001b[0malert_text\u001b[0m \u001b[1;33m=\u001b[0m \u001b[0mvalue\u001b[0m\u001b[1;33m[\u001b[0m\u001b[1;34m'alert'\u001b[0m\u001b[1;33m]\u001b[0m\u001b[1;33m.\u001b[0m\u001b[0mget\u001b[0m\u001b[1;33m(\u001b[0m\u001b[1;34m'text'\u001b[0m\u001b[1;33m)\u001b[0m\u001b[1;33m\u001b[0m\u001b[1;33m\u001b[0m\u001b[0m\n\u001b[0;32m    246\u001b[0m             \u001b[1;32mraise\u001b[0m \u001b[0mexception_class\u001b[0m\u001b[1;33m(\u001b[0m\u001b[0mmessage\u001b[0m\u001b[1;33m,\u001b[0m \u001b[0mscreen\u001b[0m\u001b[1;33m,\u001b[0m \u001b[0mstacktrace\u001b[0m\u001b[1;33m,\u001b[0m \u001b[0malert_text\u001b[0m\u001b[1;33m)\u001b[0m  \u001b[1;31m# type: ignore[call-arg]  # mypy is not smart enough here\u001b[0m\u001b[1;33m\u001b[0m\u001b[1;33m\u001b[0m\u001b[0m\n\u001b[1;32m--> 247\u001b[1;33m         \u001b[1;32mraise\u001b[0m \u001b[0mexception_class\u001b[0m\u001b[1;33m(\u001b[0m\u001b[0mmessage\u001b[0m\u001b[1;33m,\u001b[0m \u001b[0mscreen\u001b[0m\u001b[1;33m,\u001b[0m \u001b[0mstacktrace\u001b[0m\u001b[1;33m)\u001b[0m\u001b[1;33m\u001b[0m\u001b[1;33m\u001b[0m\u001b[0m\n\u001b[0m\u001b[0;32m    248\u001b[0m \u001b[1;33m\u001b[0m\u001b[0m\n\u001b[0;32m    249\u001b[0m     \u001b[1;32mdef\u001b[0m \u001b[0m_value_or_default\u001b[0m\u001b[1;33m(\u001b[0m\u001b[0mself\u001b[0m\u001b[1;33m,\u001b[0m \u001b[0mobj\u001b[0m\u001b[1;33m:\u001b[0m \u001b[0mMapping\u001b[0m\u001b[1;33m[\u001b[0m\u001b[0m_KT\u001b[0m\u001b[1;33m,\u001b[0m \u001b[0m_VT\u001b[0m\u001b[1;33m]\u001b[0m\u001b[1;33m,\u001b[0m \u001b[0mkey\u001b[0m\u001b[1;33m:\u001b[0m \u001b[0m_KT\u001b[0m\u001b[1;33m,\u001b[0m \u001b[0mdefault\u001b[0m\u001b[1;33m:\u001b[0m \u001b[0m_VT\u001b[0m\u001b[1;33m)\u001b[0m \u001b[1;33m->\u001b[0m \u001b[0m_VT\u001b[0m\u001b[1;33m:\u001b[0m\u001b[1;33m\u001b[0m\u001b[1;33m\u001b[0m\u001b[0m\n",
      "\u001b[1;31mElementClickInterceptedException\u001b[0m: Message: element click intercepted: Element <button class=\"_9-mn _9-mo\" type=\"button\">...</button> is not clickable at point (460, 30). Other element would receive the click: <div class=\"gs1a9yip rq0escxv j83agx80 cbu4d94t buofh1pr taijpn5t\" style=\"--fds-black:#000000; --fds-black-alpha-05:rgba(0, 0, 0, 0.05); --fds-black-alpha-10:rgba(0, 0, 0, 0.1); --fds-black-alpha-15:rgba(0, 0, 0, 0.15); --fds-black-alpha-20:rgba(0, 0, 0, 0.2); --fds-black-alpha-30:rgba(0, 0, 0, 0.3); --fds-black-alpha-40:rgba(0, 0, 0, 0.4); --fds-black-alpha-50:rgba(0, 0, 0, 0.5); --fds-black-alpha-60:rgba(0, 0, 0, 0.6); --fds-black-alpha-80:rgba(0, 0, 0, 0.8); --fds-blue-05:#ECF3FF; --fds-blue-30:#AAC9FF; --fds-blue-40:#77A7FF; --fds-blue-60:#1877F2; --fds-blue-70:#2851A3; --fds-blue-80:#1D3C78; --fds-button-text:#444950; --fds-comment-background:#F2F3F5; --fds-dark-mode-gray-35:#CCCCCC; --fds-dark-mode-gray-50:#828282; --fds-dark-mode-gray-70:#4A4A4A; --fds-dark-mode-gray-80:#373737; --fds-dark-mode-gray-90:#282828; --fds-dark-mode-gray-100:#1C1C1C; --fds-gray-00:#F5F6F7; --fds-gray-05:#F2F3F5; --fds-gray-10:#EBEDF0; --fds-gray-20:#DADDE1; --fds-gray-25:#CCD0D5; --fds-gray-30:#BEC3C9; --fds-gray-45:#8D949E; --fds-gray-70:#606770; --fds-gray-80:#444950; --fds-gray-90:#303338; --fds-gray-100:#1C1E21; --fds-green-55:#00A400; --fds-highlight:#3578E5; --fds-highlight-cell-background:#ECF3FF; --fds-primary-icon:#1C1E21; --fds-primary-text:#1C1E21; --fds-red-55:#FA383E; --fds-soft:cubic-bezier(0.08,0.52,0.52,1); --fds-spectrum-aluminum-tint-70:#E4F0F6; --fds-spectrum-blue-gray-tint-70:#CFD1D5; --fds-spectrum-cherry:#F35369; --fds-spectrum-cherry-tint-70:#FBCCD2; --fds-spectrum-grape-tint-70:#DDD5F0; --fds-spectrum-grape-tint-90:#F4F1FA; --fds-spectrum-lemon-dark-1:#F5C33B; --fds-spectrum-lemon-tint-70:#FEF2D1; --fds-spectrum-lime:#A3CE71; --fds-spectrum-lime-tint-70:#E4F0D5; --fds-spectrum-orange-tint-70:#FCDEC5; --fds-spectrum-orange-tint-90:#FEF4EC; --fds-spectrum-seafoam-tint-70:#CAEEF9; --fds-spectrum-slate-dark-2:#89A1AC; --fds-spectrum-slate-tint-70:#EAEFF2; --fds-spectrum-teal:#6BCEBB; --fds-spectrum-teal-dark-1:#4DBBA6; --fds-spectrum-teal-dark-2:#31A38D; --fds-spectrum-teal-tint-70:#D2F0EA; --fds-spectrum-teal-tint-90:#F0FAF8; --fds-spectrum-tomato:#FB724B; --fds-spectrum-tomato-tint-30:#F38E7B; --fds-spectrum-tomato-tint-90:#FDEFED; --fds-strong:cubic-bezier(0.12,0.8,0.32,1); --fds-white:#FFFFFF; --fds-white-alpha-05:rgba(255, 255, 255, 0.05); --fds-white-alpha-10:rgba(255, 255, 255, 0.1); --fds-white-alpha-20:rgba(255, 255, 255, 0.2); --fds-white-alpha-30:rgba(255, 255, 255, 0.3); --fds-white-alpha-40:rgba(255, 255, 255, 0.4); --fds-white-alpha-50:rgba(255, 255, 255, 0.5); --fds-white-alpha-60:rgba(255, 255, 255, 0.6); --fds-white-alpha-80:rgba(255, 255, 255, 0.8); --fds-yellow-20:#FFBA00; --accent:#0095F6; --always-white:#FFFFFF; --always-black:black; --always-dark-gradient:linear-gradient(rgba(0,0,0,0), rgba(0,0,0,0.6)); --always-dark-overlay:rgba(0, 0, 0, 0.4); --always-light-overlay:rgba(255, 255, 255, 0.4); --always-gray-40:#65676B; --always-gray-75:#BCC0C4; --always-gray-95:#F0F2F5; --attachment-footer-background:#F0F2F5; --background-deemphasized:#F0F2F5; --base-blue:#1877F2; --base-cherry:#F3425F; --base-grape:#9360F7; --base-lemon:#F7B928; --base-lime:#45BD62; --base-pink:#FF66BF; --base-seafoam:#54C7EC; --base-teal:#2ABBA7; --base-tomato:#FB724B; --blue-link:#00376B; --card-background:#FFFFFF; --card-background-flat:#F7F8FA; --comment-background:#F0F2F5; --comment-footer-background:#F6F9FA; --dataviz-primary-1:rgb(48,200,180); --disabled-button-background:rgba(0, 149, 246, 0.3); --disabled-button-text:#FFFFFF; --disabled-icon:#BCC0C4; --disabled-text:#BCC0C4; --divider:#DBDBDB; --event-date:#F3425F; --fb-wordmark:#1877F2; --filter-accent:invert(39%) sepia(57%) saturate(200%) saturate(200%) saturate(200%) saturate(200%) saturate(200%) saturate(147.75%) hue-rotate(202deg) brightness(97%) contrast(96%); --filter-always-white:invert(100%); --filter-disabled-icon:invert(80%) sepia(6%) saturate(200%) saturate(120%) hue-rotate(173deg) brightness(98%) contrast(89%); --filter-placeholder-icon:invert(59%) sepia(11%) saturate(200%) saturate(135%) hue-rotate(176deg) brightness(96%) contrast(94%); --filter-primary-icon:invert(8%) sepia(10%) saturate(200%) saturate(200%) saturate(166%) hue-rotate(177deg) brightness(104%) contrast(91%); --filter-secondary-icon:invert(39%) sepia(21%) saturate(200%) saturate(109.5%) hue-rotate(174deg) brightness(94%) contrast(86%); --filter-warning-icon:invert(77%) sepia(29%) saturate(200%) saturate(200%) saturate(200%) saturate(200%) saturate(200%) saturate(128%) hue-rotate(359deg) brightness(102%) contrast(107%); --filter-blue-link-icon:invert(30%) sepia(98%) saturate(200%) saturate(200%) saturate(200%) saturate(166.5%) hue-rotate(192deg) brightness(91%) contrast(101%); --filter-positive:invert(37%) sepia(61%) saturate(200%) saturate(200%) saturate(200%) saturate(200%) saturate(115%) hue-rotate(91deg) brightness(97%) contrast(105%); --filter-negative:invert(25%) sepia(33%) saturate(200%) saturate(200%) saturate(200%) saturate(200%) saturate(200%) saturate(200%) saturate(110%) hue-rotate(345deg) brightness(132%) contrast(96%); --glimmer-spinner-icon:#65676B; --hero-banner-background:#FFFFFF; --hosted-view-selected-state:rgba(45, 136, 255, 0.1); --highlight-bg:#E7F3FF; --hover-overlay:rgba(0, 0, 0, 0.05); --media-hover:rgba(68, 73, 80, 0.15); --media-inner-border:rgba(0, 0, 0, 0.1); --media-outer-border:#FFFFFF; --media-pressed:rgba(68, 73, 80, 0.35); --messenger-card-background:#FFFFFF; --messenger-reply-background:#F0F2F5; --overlay-alpha-80:rgba(0, 0, 0, 0.65); --overlay-on-media:rgba(0, 0, 0, 0.6); --nav-bar-background:#FFFFFF; --nav-bar-background-gradient:linear-gradient(to top, #FFFFFF, rgba(255,255,255.9), rgba(255,255,255,0.7), rgba(255,255,255,0.4), rgba(255,255,255,0)); --nav-bar-background-gradient-wash:linear-gradient(to top, #F0F2F5, rgba(240,242,245.9), rgba(240,242,245,0.7), rgba(240,242,245,0.4), rgba(240,242,245,0)); --negative:hsl(350, 87%, 55%); --negative-background:hsl(350, 87%, 55%, 20%); --new-notification-background:#E7F3FF; --non-media-pressed:rgba(68, 73, 80, 0.15); --non-media-pressed-on-dark:rgba(255, 255, 255, 0.3); --notification-badge:#e41e3f; --placeholder-icon:#8A8D91; --placeholder-text:#8A8D91; --placeholder-text-on-media:rgba(255, 255, 255, 0.5); --popover-background:#FFFFFF; --positive:#31A24C; --positive-background:#DEEFE1; --press-overlay:rgba(0, 0, 0, 0.1); --primary-button-background:#0095F6; --primary-button-pressed:#77A7FF; --primary-button-text:#FFFFFF; --primary-deemphasized-button-background:rgba(0, 149, 246, 0.1); --primary-deemphasized-button-pressed:rgba(0, 149, 246, 0.05); --primary-deemphasized-button-pressed-overlay:rgba(0, 149, 246, 0.15); --primary-deemphasized-button-text:#0095F6; --primary-icon:#262626; --primary-text:#262626; --primary-text-on-media:#FFFFFF; --primary-web-focus-indicator:#D24294; --progress-ring-neutral-background:rgba(0, 0, 0, 0.2); --progress-ring-neutral-foreground:#000000; --progress-ring-on-media-background:rgba(255, 255, 255, 0.2); --progress-ring-on-media-foreground:#FFFFFF; --progress-ring-blue-background:rgba(24, 119, 242, 0.2); --progress-ring-blue-foreground:hsl(214, 89%, 52%); --progress-ring-disabled-background:rgba(190,195,201, 0.2); --progress-ring-disabled-foreground:#BEC3C9; --rating-star-active:#EB660D; --scroll-thumb:#BCC0C4; --scroll-shadow:0 1px 2px rgba(0, 0, 0, 0.1), 0 -1px rgba(0, 0, 0, 0.1) inset; --secondary-button-background:transparent; --secondary-button-background-floating:#ffffff; --secondary-button-background-on-dark:rgba(0, 0, 0, 0.4); --secondary-button-pressed:rgba(0, 0, 0, 0.05); --secondary-button-stroke:transparent; --secondary-button-text:#0095F6; --secondary-icon:#8E8E8E; --secondary-text:#8E8E8E; --secondary-text-on-media:rgba(255, 255, 255, 0.9); --section-header-text:#4B4C4F; --shadow-1:rgba(0, 0, 0, 0.1); --shadow-2:rgba(0, 0, 0, 0.2); --shadow-5:rgba(0, 0, 0, 0.5); --shadow-8:rgba(0, 0, 0, 0.8); --shadow-inset:rgba(255, 255, 255, 0.5); --surface-background:#FFFFFF; --text-highlight:rgba(24, 119, 242, 0.2); --toggle-active-background:#E7F3FF; --toggle-active-icon:rgb(24, 119, 242); --toggle-active-text:rgb(24, 119, 242); --toggle-button-active-background:#E7F3FF; --wash:#FAFAFA; --web-wash:#FAFAFA; --warning:hsl(40, 89%, 52%); --fb-logo-color:#2D88FF; --dialog-anchor-vertical-padding:56px; --header-height:0px; --global-panel-width:0px; --button-corner-radius:4px; --card-corner-radius:4px; --fds-animation-enter-exit-in:cubic-bezier(0.14, 1, 0.34, 1); --fds-animation-enter-exit-out:cubic-bezier(0.45, 0.1, 0.2, 1); --fds-animation-swap-shuffle-in:cubic-bezier(0.14, 1, 0.34, 1); --fds-animation-swap-shuffle-out:cubic-bezier(0.45, 0.1, 0.2, 1); --fds-animation-move-in:cubic-bezier(0.17, 0.17, 0, 1); --fds-animation-move-out:cubic-bezier(0.17, 0.17, 0, 1); --fds-animation-expand-collapse-in:cubic-bezier(0.17, 0.17, 0, 1); --fds-animation-expand-collapse-out:cubic-bezier(0.17, 0.17, 0, 1); --fds-animation-passive-move-in:cubic-bezier(0.5, 0, 0.1, 1); --fds-animation-passive-move-out:cubic-bezier(0.5, 0, 0.1, 1); --fds-animation-quick-move-in:cubic-bezier(0.1, 0.9, 0.2, 1); --fds-animation-quick-move-out:cubic-bezier(0.1, 0.9, 0.2, 1); --fds-animation-fade-in:cubic-bezier(0, 0, 1, 1); --fds-animation-fade-out:cubic-bezier(0, 0, 1, 1); --fds-duration-extra-extra-short-in:100ms; --fds-duration-extra-extra-short-out:100ms; --fds-duration-extra-short-in:200ms; --fds-duration-extra-short-out:150ms; --fds-duration-short-in:280ms; --fds-duration-short-out:200ms; --fds-duration-medium-in:400ms; --fds-duration-medium-out:350ms; --fds-duration-long-in:500ms; --fds-duration-long-out:350ms; --fds-duration-extra-long-in:1000ms; --fds-duration-extra-long-out:1000ms; --fds-duration-none:0ms; --fds-fast:200ms; --fds-slow:400ms; --font-family-apple:system-ui, -apple-system, BlinkMacSystemFont, &quot;.SFNSText-Regular&quot;, sans-serif; --font-family-code:ui-monospace, Menlo, Consolas, Monaco, monospace; --font-family-default:Helvetica, Arial, sans-serif; --font-family-segoe:Segoe UI Historic, Segoe UI, Helvetica, Arial, sans-serif; --dataviz-primary-2:rgb(134,218,255); --dataviz-primary-3:rgb(95,170,255); --dataviz-secondary-1:rgb(118,62,230); --dataviz-secondary-2:rgb(147,96,247); --dataviz-secondary-3:rgb(219,26,139); --dataviz-supplementary-1:rgb(255,122,105); --dataviz-supplementary-2:rgb(241,168,23); --dataviz-supplementary-3:rgb(49,162,76); --dataviz-supplementary-4:rgb(50,52,54); --base-unit:4px; --breakpoint-medium-width:1536px; --breakpoint-small-width:1024px; --challenge-width:460px; --cluster-card-border-radius:8px; --creation-composer-height:81px; --creation-header-composer-height:126px; --desktop-cluster-card-height:89px; --desktop-collapsed-nav-height:52px; --desktop-grid-item-margin:28px; --desktop-in-feed-story-item-height:208px; --desktop-in-feed-story-item-width:116px; --desktop-large-modal-max-height:781px; --desktop-large-modal-max-width:1491px; --desktop-large-modal-min-height:664px; --desktop-large-modal-min-width:908px; --desktop-nav-anim-duration:0.2s; --desktop-nav-search-box-width:215px; --desktop-regular-nav-height:60px; --desktop-skinny-nav-height:60px; --desktop-nav-height:60px; --direct-attachment-image-grid-border-size:1px; --direct-attachment-image-grid-item-size:78px; --direct-attachment-image-grid-width:236px; --direct-attachment-story-height:150px; --direct-attachment-story-large-height:256px; --direct-attachment-story-large-width:164px; --direct-attachment-story-width:84px; --direct-message-margin:8px; --direct-message-max-width:236px; --extra-small-screen-max:413px; --fb-signup-page-profile-pic-size:88px; --feed-width-wide:614px; --feed-with-padding-threshold-min:640px; --font-family-system:-apple-system, BlinkMacSystemFont, &quot;Segoe UI&quot;, Roboto, Helvetica, Arial, sans-serif; --font-weight-system-bold:700; --font-weight-system-extra-bold:800; --font-weight-system-extra-light:200; --font-weight-system-light:300; --font-weight-system-medium:500; --font-weight-system-regular:400; --font-weight-system-semibold:600; --grid-column-width-modal:6.25%; --grid-column-width:5.55556%; --hscc-collapse-transition-duration:0.3s; --igui-border-radius:3px; --in-feed-story-item-height:240px; --in-feed-story-item-width:135px; --input-border-radius:6px; --large-screen-min:876px; --like-animation-duration:1000ms; --live-video-border-radius:4px; --live-video-right-col-width:336px; --media-info:335px; --medium-screen-max:875px; --medium-screen-min:736px; --mobile-cluster-card-height:74px; --mobile-grid-item-margin:2px; --mobile-nav-height:45px; --modal-border-radius:12px; --modal-padding:16px; --modal-z-index:100; --photo:600px; --post-modal-large-screen-min:1536px; --post-modal-small-screen-max:1366px; --refinement-section-height:50px; --scrollable-content-header-height-large:56px; --scrollable-content-header-height:44px; --search-modal-height-expanded:450px; --search-modal-height:362px; --search-modal-top-offset:12px; --search-result-height:50px; --search-result-list-width:375px; --site-padding-top:30px; --site-width-narrow:600px; --site-width-wide:935px; --small-screen-max:735px; --small-screen-min:414px; --story-cube-shading-duration:200ms; --story-desktop-margin-bottom:26px; --story-desktop-margin-top:82px; --story-gallery-preview-scale-correction:2.5; --story-progressbar-update-tick:0.1s; --story-swap-animation-duration:350ms; --system-10-font-size:10px; --system-10-line-height:12px; --system-11-font-size:11px; --system-11-line-height:13px; --system-12-font-size:12px; --system-12-line-height:16px; --system-14-font-size:14px; --system-14-line-height:18px; --system-16-font-size:16px; --system-16-line-height:24px; --system-18-font-size:18px; --system-18-line-height:24px; --system-20-font-size:20px; --system-20-line-height:25px; --system-22-font-size:22px; --system-22-line-height:26px; --system-24-font-size:24px; --system-24-line-height:27px; --system-26-font-size:26px; --system-26-line-height:28px; --system-28-font-size:28px; --system-28-line-height:32px; --system-32-font-size:32px; --system-32-line-height:40px; --blue-0:#f5fbff; --blue-2:#b3dbff; --blue-4:#47afff; --blue-5:#0095f6; --blue-6:#0074cc; --blue-7:#0057a3; --blue-8:#00376b; --blue-9:#002952; --challenge-link:54,54,54; --clr-separator:#efefef; --clr_red_dark_30:#af2634; --cyan-5:#27c4f5; --docpen-lightgrey:243,243,243; --fb-connect-blue:#4f67b0; --green-4:#78de45; --green-5:#58c322; --green-6:#37a600; --grey-1:#efefef; --grey-2:#dbdbdb; --grey-4:#a8a8a8; --grey-5:#8e8e8e; --grey-6:#737373; --grey-8:#363636; --grey-9:#262626; --ig-badge:237,73,86; --ig-elevated-background:255,255,255; --ig-elevated-separator:219,219,219; --ig-error-or-destructive:237,73,86; --ig-facebook-blue:53,121,234; --ig-focus-stroke:168,168,168; --ig-highlight-background:239,239,239; --ig-link:0,55,107; --ig-primary-background:255,255,255; --ig-primary-button:0,149,246; --ig-primary-text:38,38,38; --ig-secondary-background:250,250,250; --ig-secondary-button:38,38,38; --ig-secondary-text:142,142,142; --ig-separator:219,219,219; --ig-stroke:219,219,219; --ig-success:88,195,34; --ig-temporary-highlight:245,251,255; --ig-tertiary-text:199,199,199; --ig-text-on-color:255,255,255; --orange-5:#fd8d32; --pink-5:#d10869; --post-separator:239,239,239; --post-step-indicator:168,168,168; --purple-5:#a307ba; --red-4:#ff6874; --red-5:#ed4956; --red-6:#c62330; --red-7:#a70311; --tos-box-shadow:0,0,0; --web-always-black:0,0,0; --web-always-white:255,255,255; --web-secondary-action:224,241,255; --yellow-5:#fdcb5c;\">...</div>\n  (Session info: MicrosoftEdge=101.0.1210.53)\nStacktrace:\nBacktrace:\n\tMicrosoft::Applications::Events::EventProperties::unpack [0x007E9643+57891]\n\tMicrosoft::Applications::Events::ISemanticContext::SetCommonField [0x006C8951+1436513]\n\tMicrosoft::Applications::Events::ILogConfiguration::operator* [0x004B436E+3470]\n\tMicrosoft::Applications::Events::GUID_t::GUID_t [0x004E2C03+119699]\n\tMicrosoft::Applications::Events::GUID_t::GUID_t [0x004E154C+113884]\n\tMicrosoft::Applications::Events::GUID_t::GUID_t [0x004DFA59+106985]\n\tMicrosoft::Applications::Events::GUID_t::GUID_t [0x004DEFB3+104259]\n\tMicrosoft::Applications::Events::GUID_t::GUID_t [0x004D6888+69656]\n\tMicrosoft::Applications::Events::GUID_t::GUID_t [0x004F201C+182188]\n\tMicrosoft::Applications::Events::GUID_t::GUID_t [0x004D62E1+68209]\n\tMicrosoft::Applications::Events::GUID_t::GUID_t [0x004F2344+182996]\n\tMicrosoft::Applications::Events::GUID_t::GUID_t [0x004FFE43+239059]\n\tMicrosoft::Applications::Events::GUID_t::GUID_t [0x004F1D96+181542]\n\tMicrosoft::Applications::Events::GUID_t::GUID_t [0x004D5066+63478]\n\tMicrosoft::Applications::Events::GUID_t::GUID_t [0x004D5DF6+66950]\n\tMicrosoft::Applications::Events::ILogManager::DispatchEventBroadcast [0x009E8E35+636757]\n\tMicrosoft::Applications::Events::ILogManager::DispatchEventBroadcast [0x00969E02+116514]\n\tMicrosoft::Applications::Events::ILogManager::DispatchEventBroadcast [0x00969AA7+115655]\n\tMicrosoft::Applications::Events::ILogManager::DispatchEventBroadcast [0x0096DB60+132224]\n\tMicrosoft::Applications::Events::ILogManager::DispatchEventBroadcast [0x0096A4EC+118284]\n\tMicrosoft::Applications::Events::ISemanticContext::SetCommonField [0x006DA7B7+1509831]\n\tMicrosoft::Applications::Events::ISemanticContext::SetCommonField [0x006E4508+1550104]\n\tMicrosoft::Applications::Events::ISemanticContext::SetCommonField [0x006E4692+1550498]\n\tMicrosoft::Applications::Events::ISemanticContext::SetCommonField [0x006F5EE2+1622258]\n\tBaseThreadInitThunk [0x7502FA29+25]\n\tRtlGetAppContainerNamedObjectPath [0x771A7A7E+286]\n\tRtlGetAppContainerNamedObjectPath [0x771A7A4E+238]\n"
     ]
    }
   ],
   "source": [
    "# 다음장 클릭\n",
    "CSS_tran2=\"button._9-mn\"          \n",
    "button = driver.find_element_by_css_selector(CSS_tran2)  # 다음 버튼 find\n",
    "button.click()"
   ]
  },
  {
   "cell_type": "code",
   "execution_count": null,
   "metadata": {},
   "outputs": [],
   "source": []
  },
  {
   "cell_type": "code",
   "execution_count": null,
   "metadata": {},
   "outputs": [],
   "source": []
  },
  {
   "cell_type": "markdown",
   "metadata": {},
   "source": [
    "# for문으로 인스타그램 크롤링 시작!"
   ]
  },
  {
   "cell_type": "code",
   "execution_count": 64,
   "metadata": {},
   "outputs": [],
   "source": [
    "# 데이터 수집할 키워드 지정\n",
    "keyword = \"역삼맛집\"\n",
    "len_insta = 20  # 몇 개의 게시글을 수집할 것인가"
   ]
  },
  {
   "cell_type": "code",
   "execution_count": 65,
   "metadata": {},
   "outputs": [],
   "source": [
    "# url에 검색 'keyword' 입력\n",
    "url = \"https://www.instagram.com/explore/tags/{}/\".format(keyword)\n",
    "\n",
    "chrome_path = chromedriver_autoinstaller.install()\n",
    "driver = webdriver.Chrome(chrome_path)\n",
    "driver.get(url)"
   ]
  },
  {
   "cell_type": "raw",
   "metadata": {},
   "source": [
    "수동 로그인"
   ]
  },
  {
   "cell_type": "code",
   "execution_count": 87,
   "metadata": {
    "scrolled": true
   },
   "outputs": [
    {
     "data": {
      "application/vnd.jupyter.widget-view+json": {
       "model_id": "1266f3544eac4f2bba567fe09686339e",
       "version_major": 2,
       "version_minor": 0
      },
      "text/plain": [
       "  0%|          | 0/20 [00:00<?, ?it/s]"
      ]
     },
     "metadata": {},
     "output_type": "display_data"
    },
    {
     "name": "stdout",
     "output_type": "stream",
     "text": [
      "0 ['#압구정로데오', '#화춘옥', '#쎄럽_강남', '#도산공원맛집', '#청담맛집', '#압구정로데오맛집', '#강남맛집', '#압구정맛집', '#압구정역맛집', '#강남역맛집', '#강남맛집', '#강남회식', '#강남역회식', '#청담역맛집', '#강남데이트', '#기념일맛집']\n",
      "1 ['#강남역맛집', '#강남맛집', '#역삼맛집', '#강남역술집', '#강남술집', '#역삼술집', '#직장인맛집', '#직장인술집', '#먹스타그램', '#맛스타그램', '#술스타그램', '#맥주맛집', '#랭맥', '#강남역랭맥', '#맛쨍이_강남']\n",
      "2 ['#강남구재영', '#강남구맛집', '#역삼동재영', '#역삼동맛집', '#소고기재영', '#소고기맛집', '#동화고옥재영', '#동화고옥', '#역삼맛집', '#소고기오마카세재영', '#소고기오마카세맛집', '#소고기오마카세', '#강남N타워맛집', '#동화고옥강남N점']\n",
      "3 ['#광고', '#사위식당', '#사위식당여의도점', '#낙곱새맛집', '#낙곱새', '#마라낙곱새', '#여의도맛집', '#더현대맛집', '#영등포맛집', '#ifc몰맛집', '#여의도한강공원맛집', '#판교맛집', '#목동맛집', '#일산맛집', '#성수맛집', '#역삼맛집', '#광교맛집', '#기슐랭영등포구']\n",
      "4 ['#아먹_강남', '#다몽집', '#신논현역맛집', '#논현맛집', '#신논현맛집', '#강남역맛집', '#강남맛집', '#먹스타그램', '#서울맛집추천', '#서울고기맛집', '#역삼맛집', '#역삼동맛집', '#고기스타그램']\n",
      "6 ['#해안사골순댓국', '#제임스_역삼', '#역삼동맛집', '#순대스테이크', '#먹스타그램', '#내돈내먹']\n",
      "10 ['#강남역맛집', '#역삼맛집', '#서초맛집', '#하남맛집', '#미사맛집', '#강동구맛집', '#천호맛집', '#을지로맛집', '#힙지로', '#서울숲맛집', '#강릉맛집', '#부산맛집', '#대구맛집', '#일산맛집', '#데이트룩']\n",
      "11 []\n",
      "13 ['#강남역맛집', '#역삼맛집', '#서초맛집', '#하남맛집', '#미사맛집', '#강동구맛집', '#천호맛집', '#을지로맛집', '#힙지로', '#서울숲맛집', '#강릉맛집', '#부산맛집', '#대구맛집', '#일산맛집', '#데이트룩']\n",
      "14 ['#강남역맛집', '#역삼맛집', '#서초맛집', '#하남맛집', '#미사맛집', '#강동구맛집', '#천호맛집', '#을지로맛집', '#힙지로', '#서울숲맛집', '#강릉맛집', '#부산맛집', '#대구맛집', '#일산맛집', '#데이트룩']\n",
      "{0: {'picture': 'https://scontent-ssn1-1.cdninstagram.com/v/t51.2885-15/283782926_518006860056096_461147366964775125_n.webp?stp=dst-jpg_e35&_nc_ht=scontent-ssn1-1.cdninstagram.com&_nc_cat=100&_nc_ohc=dVylTDfufZ4AX94ec-1&tn=w6-YUoZ1HahtecxY&edm=ALQROFkBAAAA&ccb=7-5&ig_cache_key=Mjg0NTIxMjk5NDI5MTgzNDc1OA%3D%3D.2-ccb7-5&oh=00_AT_nEF5AJrlO7WT5JOKh1Se25ldaW98Iec-p1GKjOw-QLw&oe=629554A9&_nc_sid=30a2ef', 'date': '2022년 5월 24일', 'like': '좋아요 3,676개', 'tag': ['#압구정로데오', '#화춘옥', '#쎄럽_강남', '#도산공원맛집', '#청담맛집', '#압구정로데오맛집', '#강남맛집', '#압구정맛집', '#압구정역맛집', '#강남역맛집', '#강남맛집', '#강남회식', '#강남역회식', '#청담역맛집', '#강남데이트', '#기념일맛집']}, 1: {'picture': 'https://scontent-ssn1-1.cdninstagram.com/v/t51.2885-15/281485136_557305262648045_648122144341796259_n.jpg?stp=dst-jpg_e35&_nc_ht=scontent-ssn1-1.cdninstagram.com&_nc_cat=105&_nc_ohc=r_ivB3IutT8AX8_8VLy&edm=ALQROFkBAAAA&ccb=7-5&ig_cache_key=Mjg0MTY1MTY3NTg3MTAxMDY0Ng%3D%3D.2-ccb7-5&oh=00_AT_pjDvGKFqBs7MeqUcqYPk2LL-MZ3Ccu28AMxeotWK5GQ&oe=6295DF71&_nc_sid=30a2ef', 'date': '2022년 5월 19일', 'like': '좋아요 15,640개', 'tag': ['#강남역맛집', '#강남맛집', '#역삼맛집', '#강남역술집', '#강남술집', '#역삼술집', '#직장인맛집', '#직장인술집', '#먹스타그램', '#맛스타그램', '#술스타그램', '#맥주맛집', '#랭맥', '#강남역랭맥', '#맛쨍이_강남']}, 2: {'picture': 'https://scontent-ssn1-1.cdninstagram.com/v/t51.2885-15/283916575_564307408413937_8510200023915678219_n.jpg?stp=dst-jpg_e35&_nc_ht=scontent-ssn1-1.cdninstagram.com&_nc_cat=101&_nc_ohc=fQNkRKxW2HgAX9goopr&edm=ALQROFkBAAAA&ccb=7-5&ig_cache_key=Mjg0NTYxNzExNDEzODgyNDkzNA%3D%3D.2-ccb7-5&oh=00_AT_FJYhHqqREFwU6FekYPvubaMXNTkV6OgsYhcXqBb42aw&oe=6294BDE7&_nc_sid=30a2ef', 'date': '2022년 5월 25일', 'like': '좋아요 541개', 'tag': ['#강남구재영', '#강남구맛집', '#역삼동재영', '#역삼동맛집', '#소고기재영', '#소고기맛집', '#동화고옥재영', '#동화고옥', '#역삼맛집', '#소고기오마카세재영', '#소고기오마카세맛집', '#소고기오마카세', '#강남N타워맛집', '#동화고옥강남N점']}, 3: {'picture': 'https://scontent-ssn1-1.cdninstagram.com/v/t51.2885-15/283052489_551642092969191_3454694349222433626_n.jpg?stp=dst-jpg_e35&_nc_ht=scontent-ssn1-1.cdninstagram.com&_nc_cat=103&_nc_ohc=rsQ5SblQTX0AX_Zd0vx&edm=ALQROFkBAAAA&ccb=7-5&ig_cache_key=Mjg0NTE0NzQ3MjYwMjY5MTU4NQ%3D%3D.2-ccb7-5&oh=00_AT9uO-DhonL5tPRvVLAaZC5GV5fwyNop47SIr4ZaJ4sjXA&oe=62952764&_nc_sid=30a2ef', 'date': '2022년 5월 24일', 'like': '좋아요 1,489개', 'tag': ['#광고', '#사위식당', '#사위식당여의도점', '#낙곱새맛집', '#낙곱새', '#마라낙곱새', '#여의도맛집', '#더현대맛집', '#영등포맛집', '#ifc몰맛집', '#여의도한강공원맛집', '#판교맛집', '#목동맛집', '#일산맛집', '#성수맛집', '#역삼맛집', '#광교맛집', '#기슐랭영등포구']}, 4: {'picture': 'https://scontent-ssn1-1.cdninstagram.com/v/t51.2885-15/283358589_119646883904485_546392361479688709_n.jpg?stp=dst-jpg_e35&_nc_ht=scontent-ssn1-1.cdninstagram.com&_nc_cat=101&_nc_ohc=dxgAsPDOcnEAX-69oHP&edm=ALQROFkBAAAA&ccb=7-5&ig_cache_key=Mjg0NTIyNDU2MzQxNDMwNjQ0NA%3D%3D.2-ccb7-5&oh=00_AT8lWxtjNdhu5N-hd3tSRIPAhCvdrNhpS1WQLCZcFuvudw&oe=629589F5&_nc_sid=30a2ef', 'date': '2022년 5월 24일', 'like': '좋아요 841개', 'tag': ['#아먹_강남', '#다몽집', '#신논현역맛집', '#논현맛집', '#신논현맛집', '#강남역맛집', '#강남맛집', '#먹스타그램', '#서울맛집추천', '#서울고기맛집', '#역삼맛집', '#역삼동맛집', '#고기스타그램']}, 6: {'picture': 'https://scontent-ssn1-1.cdninstagram.com/v/t51.2885-15/281905034_168846175583454_785477765216053969_n.jpg?stp=dst-jpg_e35&_nc_ht=scontent-ssn1-1.cdninstagram.com&_nc_cat=106&_nc_ohc=MDBBI8diPk8AX_yRsaw&tn=w6-YUoZ1HahtecxY&edm=ALQROFkBAAAA&ccb=7-5&ig_cache_key=Mjg0MjcwNjMzNzU3ODAzNDUwMw%3D%3D.2-ccb7-5&oh=00_AT9v2NEcxNLgwFFMiquMMkeGO06YuNDzY_ins9X_pofMzg&oe=6295696E&_nc_sid=30a2ef', 'date': '2022년 5월 21일', 'like': '좋아요 1,677개', 'tag': ['#해안사골순댓국', '#제임스_역삼', '#역삼동맛집', '#순대스테이크', '#먹스타그램', '#내돈내먹']}, 10: {'picture': 'https://scontent-ssn1-1.cdninstagram.com/v/t51.2885-15/283922294_701631464431420_607820259392037540_n.webp?stp=dst-jpg_e35&_nc_ht=scontent-ssn1-1.cdninstagram.com&_nc_cat=104&_nc_ohc=VkrawWW4cvcAX9tVy44&tn=w6-YUoZ1HahtecxY&edm=ALQROFkBAAAA&ccb=7-5&ig_cache_key=Mjg0NjI3MjAxNzczNTA5MzE2MA%3D%3D.2-ccb7-5&oh=00_AT-Bq_2lSte3fUVkEKYHgVaEwNw3PQ5qjWPGMl4gzvIXYQ&oe=6296624E&_nc_sid=30a2ef', 'date': '2022년 5월 26일', 'like': '좋아요 1개', 'tag': ['#강남역맛집', '#역삼맛집', '#서초맛집', '#하남맛집', '#미사맛집', '#강동구맛집', '#천호맛집', '#을지로맛집', '#힙지로', '#서울숲맛집', '#강릉맛집', '#부산맛집', '#대구맛집', '#일산맛집', '#데이트룩']}, 11: {'picture': 'https://scontent-ssn1-1.cdninstagram.com/v/t51.2885-15/283698261_422851539345207_3852584438391286139_n.webp?stp=dst-jpg_e35&_nc_ht=scontent-ssn1-1.cdninstagram.com&_nc_cat=103&_nc_ohc=f6v2t_GzH9MAX_ylt_s&edm=ALQROFkBAAAA&ccb=7-5&ig_cache_key=Mjg0NjI3MTUwMDMyNTgxMDY5Mw%3D%3D.2-ccb7-5&oh=00_AT9kJUqQ3SYimdlvqBUEJ_4PHQ5LDsqqMr3__lBMfeQGpQ&oe=6295D512&_nc_sid=30a2ef', 'date': '2022년 5월 26일', 'like': '좋아요 1개', 'tag': []}, 13: {'picture': 'https://scontent-ssn1-1.cdninstagram.com/v/t51.2885-15/283956127_5782320201782362_6080583640758676618_n.webp?stp=dst-jpg_e35&_nc_ht=scontent-ssn1-1.cdninstagram.com&_nc_cat=110&_nc_ohc=0-5bkVd4rrgAX-5uIOT&edm=ALQROFkBAAAA&ccb=7-5&ig_cache_key=Mjg0NjI3MTE0OTU0NzkyNjMwNw%3D%3D.2-ccb7-5&oh=00_AT_If3rQlZhwaRqfpsOi1Zia6FnvNUhSEdGzvkwOxsyy1Q&oe=62959515&_nc_sid=30a2ef', 'date': '2022년 5월 26일', 'like': '좋아요 2개', 'tag': ['#강남역맛집', '#역삼맛집', '#서초맛집', '#하남맛집', '#미사맛집', '#강동구맛집', '#천호맛집', '#을지로맛집', '#힙지로', '#서울숲맛집', '#강릉맛집', '#부산맛집', '#대구맛집', '#일산맛집', '#데이트룩']}, 14: {'picture': 'https://scontent-ssn1-1.cdninstagram.com/v/t51.2885-15/284032867_378560004290859_4735127509612087857_n.webp?stp=dst-jpg_e35&_nc_ht=scontent-ssn1-1.cdninstagram.com&_nc_cat=103&_nc_ohc=VUuJltPpTxsAX_KwT9Q&edm=ALQROFkBAAAA&ccb=7-5&ig_cache_key=Mjg0NjI2NTk2NTM2MjkxNTAwOA%3D%3D.2-ccb7-5&oh=00_AT_fXLIOqxt0UEXKe3ipOaQBpqG8w_UCO4pIEEIJfHOaKw&oe=6296343E&_nc_sid=30a2ef', 'date': '2022년 5월 26일', 'like': '좋아요 1개', 'tag': ['#강남역맛집', '#역삼맛집', '#서초맛집', '#하남맛집', '#미사맛집', '#강동구맛집', '#천호맛집', '#을지로맛집', '#힙지로', '#서울숲맛집', '#강릉맛집', '#부산맛집', '#대구맛집', '#일산맛집', '#데이트룩']}}\n"
     ]
    }
   ],
   "source": [
    "dict = {}  # 전체 게시글을 담을 그릇\n",
    "\n",
    "# 첫번째 사진 클릭\n",
    "CSS_tran=\".eLAPa\"\n",
    "elements = driver.find_elements_by_css_selector(CSS_tran)   # 사진 클릭\n",
    "elements[0].click()\n",
    "time.sleep(2)\n",
    "\n",
    "# 크롤링 시작\n",
    "for j in tqdm_notebook(range(0, len_insta)):    \n",
    "\n",
    "    target_info = {}                                            # 사진별 데이터를 담을 딕셔너리 생성\n",
    "\n",
    "    try:    # 크롤링을 시도해라.\n",
    "        # 사진(pic) 크롤링\n",
    "        overlays1 = \".eLAPa.RzuR0 .FFVAD\"                   # 사진창 속 사진   \n",
    "        img = driver.find_element_by_css_selector(overlays1)    # 사진 선택\n",
    "        pic = img.get_attribute('src')                          # 사진 url 크롤링 완료\n",
    "        target_info['picture'] = pic\n",
    "\n",
    "        # 날짜(date) 크롤링\n",
    "        overlays2 = \"._1o9PC\"                # 날짜 지정\n",
    "        datum2 = driver.find_element_by_css_selector(overlays2)     # 날짜 선택\n",
    "        date = datum2.get_attribute('title')\n",
    "        target_info['date'] = date\n",
    "\n",
    "        # 좋아요(like) 크롤링\n",
    "        overlays3 = \"._7UhW9.xLCgt.qyrsm.KV-D4.fDxYl.T0kll\"                                        # 리뷰창 속 날짜\n",
    "        datum3 = driver.find_element_by_css_selector(overlays3)     # 리뷰 선택\n",
    "        like = datum3.text                                          # 좋아요 크롤링 완료\n",
    "        target_info['like'] = like\n",
    "\n",
    "        # 해시태그(tag) 크롤링\n",
    "        overlays4 = \".xil3i\"                                         \n",
    "        datum3 = driver.find_elements_by_css_selector(overlays4)    # 태그 선택\n",
    "        tag_list = []\n",
    "        for i in range(len(datum3)):\n",
    "            tag_list.append(datum3[i].text)\n",
    "        target_info['tag'] = tag_list\n",
    "\n",
    "        dict[j] = target_info            # 토탈 딕셔너리로 만들기\n",
    "\n",
    "        print(j, tag_list)\n",
    "\n",
    "        # 다음장 클릭\n",
    "        CSS_tran2=\"body > div.RnEpo._Yhr4 > div.Z2Inc._7c9RR > div > div.l8mY4.feth3 > button > div > span > svg\"             # 다음 버튼 정의\n",
    "        tran_button2 = driver.find_element_by_css_selector(CSS_tran2)  # 다음 버튼 find\n",
    "        AC(driver).move_to_element(tran_button2).click().perform()     # 다음 버튼 클릭\n",
    "        time.sleep(3)\n",
    "\n",
    "    except:  # 에러가 나면 다음장을 클릭해라\n",
    "        # 다음장 클릭\n",
    "        CSS_tran2=\"body > div.RnEpo._Yhr4 > div.Z2Inc._7c9RR > div > div.l8mY4.feth3 > button > div > span > svg\"             # 다음 버튼 정의\n",
    "        tran_button2 = driver.find_element_by_css_selector(CSS_tran2)  # 다음 버튼 find\n",
    "        AC(driver).move_to_element(tran_button2).click().perform()     # 다음 버튼 클릭\n",
    "\n",
    "        time.sleep(3)\n",
    "\n",
    "print(dict)"
   ]
  },
  {
   "cell_type": "code",
   "execution_count": 88,
   "metadata": {
    "scrolled": false
   },
   "outputs": [
    {
     "name": "stdout",
     "output_type": "stream",
     "text": [
      "(10, 4)\n"
     ]
    },
    {
     "data": {
      "text/html": [
       "<div>\n",
       "<style scoped>\n",
       "    .dataframe tbody tr th:only-of-type {\n",
       "        vertical-align: middle;\n",
       "    }\n",
       "\n",
       "    .dataframe tbody tr th {\n",
       "        vertical-align: top;\n",
       "    }\n",
       "\n",
       "    .dataframe thead th {\n",
       "        text-align: right;\n",
       "    }\n",
       "</style>\n",
       "<table border=\"1\" class=\"dataframe\">\n",
       "  <thead>\n",
       "    <tr style=\"text-align: right;\">\n",
       "      <th></th>\n",
       "      <th>picture</th>\n",
       "      <th>date</th>\n",
       "      <th>like</th>\n",
       "      <th>tag</th>\n",
       "    </tr>\n",
       "  </thead>\n",
       "  <tbody>\n",
       "    <tr>\n",
       "      <th>0</th>\n",
       "      <td>https://scontent-ssn1-1.cdninstagram.com/v/t51...</td>\n",
       "      <td>2022년 5월 24일</td>\n",
       "      <td>좋아요 3,676개</td>\n",
       "      <td>[#압구정로데오, #화춘옥, #쎄럽_강남, #도산공원맛집, #청담맛집, #압구정로데...</td>\n",
       "    </tr>\n",
       "    <tr>\n",
       "      <th>1</th>\n",
       "      <td>https://scontent-ssn1-1.cdninstagram.com/v/t51...</td>\n",
       "      <td>2022년 5월 19일</td>\n",
       "      <td>좋아요 15,640개</td>\n",
       "      <td>[#강남역맛집, #강남맛집, #역삼맛집, #강남역술집, #강남술집, #역삼술집, #...</td>\n",
       "    </tr>\n",
       "    <tr>\n",
       "      <th>2</th>\n",
       "      <td>https://scontent-ssn1-1.cdninstagram.com/v/t51...</td>\n",
       "      <td>2022년 5월 25일</td>\n",
       "      <td>좋아요 541개</td>\n",
       "      <td>[#강남구재영, #강남구맛집, #역삼동재영, #역삼동맛집, #소고기재영, #소고기맛...</td>\n",
       "    </tr>\n",
       "    <tr>\n",
       "      <th>3</th>\n",
       "      <td>https://scontent-ssn1-1.cdninstagram.com/v/t51...</td>\n",
       "      <td>2022년 5월 24일</td>\n",
       "      <td>좋아요 1,489개</td>\n",
       "      <td>[#광고, #사위식당, #사위식당여의도점, #낙곱새맛집, #낙곱새, #마라낙곱새, ...</td>\n",
       "    </tr>\n",
       "    <tr>\n",
       "      <th>4</th>\n",
       "      <td>https://scontent-ssn1-1.cdninstagram.com/v/t51...</td>\n",
       "      <td>2022년 5월 24일</td>\n",
       "      <td>좋아요 841개</td>\n",
       "      <td>[#아먹_강남, #다몽집, #신논현역맛집, #논현맛집, #신논현맛집, #강남역맛집,...</td>\n",
       "    </tr>\n",
       "    <tr>\n",
       "      <th>6</th>\n",
       "      <td>https://scontent-ssn1-1.cdninstagram.com/v/t51...</td>\n",
       "      <td>2022년 5월 21일</td>\n",
       "      <td>좋아요 1,677개</td>\n",
       "      <td>[#해안사골순댓국, #제임스_역삼, #역삼동맛집, #순대스테이크, #먹스타그램, #...</td>\n",
       "    </tr>\n",
       "    <tr>\n",
       "      <th>10</th>\n",
       "      <td>https://scontent-ssn1-1.cdninstagram.com/v/t51...</td>\n",
       "      <td>2022년 5월 26일</td>\n",
       "      <td>좋아요 1개</td>\n",
       "      <td>[#강남역맛집, #역삼맛집, #서초맛집, #하남맛집, #미사맛집, #강동구맛집, #...</td>\n",
       "    </tr>\n",
       "    <tr>\n",
       "      <th>11</th>\n",
       "      <td>https://scontent-ssn1-1.cdninstagram.com/v/t51...</td>\n",
       "      <td>2022년 5월 26일</td>\n",
       "      <td>좋아요 1개</td>\n",
       "      <td>[]</td>\n",
       "    </tr>\n",
       "    <tr>\n",
       "      <th>13</th>\n",
       "      <td>https://scontent-ssn1-1.cdninstagram.com/v/t51...</td>\n",
       "      <td>2022년 5월 26일</td>\n",
       "      <td>좋아요 2개</td>\n",
       "      <td>[#강남역맛집, #역삼맛집, #서초맛집, #하남맛집, #미사맛집, #강동구맛집, #...</td>\n",
       "    </tr>\n",
       "    <tr>\n",
       "      <th>14</th>\n",
       "      <td>https://scontent-ssn1-1.cdninstagram.com/v/t51...</td>\n",
       "      <td>2022년 5월 26일</td>\n",
       "      <td>좋아요 1개</td>\n",
       "      <td>[#강남역맛집, #역삼맛집, #서초맛집, #하남맛집, #미사맛집, #강동구맛집, #...</td>\n",
       "    </tr>\n",
       "  </tbody>\n",
       "</table>\n",
       "</div>"
      ],
      "text/plain": [
       "                                              picture          date  \\\n",
       "0   https://scontent-ssn1-1.cdninstagram.com/v/t51...  2022년 5월 24일   \n",
       "1   https://scontent-ssn1-1.cdninstagram.com/v/t51...  2022년 5월 19일   \n",
       "2   https://scontent-ssn1-1.cdninstagram.com/v/t51...  2022년 5월 25일   \n",
       "3   https://scontent-ssn1-1.cdninstagram.com/v/t51...  2022년 5월 24일   \n",
       "4   https://scontent-ssn1-1.cdninstagram.com/v/t51...  2022년 5월 24일   \n",
       "6   https://scontent-ssn1-1.cdninstagram.com/v/t51...  2022년 5월 21일   \n",
       "10  https://scontent-ssn1-1.cdninstagram.com/v/t51...  2022년 5월 26일   \n",
       "11  https://scontent-ssn1-1.cdninstagram.com/v/t51...  2022년 5월 26일   \n",
       "13  https://scontent-ssn1-1.cdninstagram.com/v/t51...  2022년 5월 26일   \n",
       "14  https://scontent-ssn1-1.cdninstagram.com/v/t51...  2022년 5월 26일   \n",
       "\n",
       "           like                                                tag  \n",
       "0    좋아요 3,676개  [#압구정로데오, #화춘옥, #쎄럽_강남, #도산공원맛집, #청담맛집, #압구정로데...  \n",
       "1   좋아요 15,640개  [#강남역맛집, #강남맛집, #역삼맛집, #강남역술집, #강남술집, #역삼술집, #...  \n",
       "2      좋아요 541개  [#강남구재영, #강남구맛집, #역삼동재영, #역삼동맛집, #소고기재영, #소고기맛...  \n",
       "3    좋아요 1,489개  [#광고, #사위식당, #사위식당여의도점, #낙곱새맛집, #낙곱새, #마라낙곱새, ...  \n",
       "4      좋아요 841개  [#아먹_강남, #다몽집, #신논현역맛집, #논현맛집, #신논현맛집, #강남역맛집,...  \n",
       "6    좋아요 1,677개  [#해안사골순댓국, #제임스_역삼, #역삼동맛집, #순대스테이크, #먹스타그램, #...  \n",
       "10       좋아요 1개  [#강남역맛집, #역삼맛집, #서초맛집, #하남맛집, #미사맛집, #강동구맛집, #...  \n",
       "11       좋아요 1개                                                 []  \n",
       "13       좋아요 2개  [#강남역맛집, #역삼맛집, #서초맛집, #하남맛집, #미사맛집, #강동구맛집, #...  \n",
       "14       좋아요 1개  [#강남역맛집, #역삼맛집, #서초맛집, #하남맛집, #미사맛집, #강동구맛집, #...  "
      ]
     },
     "execution_count": 88,
     "metadata": {},
     "output_type": "execute_result"
    }
   ],
   "source": [
    "# 판다스 데이터프레임으로 만들기 : 엑셀(테이블) 형식으로 만들기\n",
    "import pandas as pd\n",
    "result_df = pd.DataFrame.from_dict(dict, 'index')\n",
    "\n",
    "print(result_df.shape)\n",
    "result_df"
   ]
  },
  {
   "cell_type": "code",
   "execution_count": 89,
   "metadata": {
    "scrolled": false
   },
   "outputs": [],
   "source": [
    "# n = result_df['picture'].count()\n",
    "\n",
    "# csv 파일로 저장\n",
    "result_df.to_csv(\"insta({}).csv\".format(keyword), encoding='utf-8-sig')"
   ]
  },
  {
   "cell_type": "code",
   "execution_count": 90,
   "metadata": {},
   "outputs": [
    {
     "data": {
      "text/plain": [
       "10"
      ]
     },
     "execution_count": 90,
     "metadata": {},
     "output_type": "execute_result"
    }
   ],
   "source": [
    "num_pic = len(result_df['picture'])\n",
    "num_pic"
   ]
  },
  {
   "cell_type": "code",
   "execution_count": 91,
   "metadata": {},
   "outputs": [
    {
     "data": {
      "text/plain": [
       "'https://scontent-ssn1-1.cdninstagram.com/v/t51.2885-15/283782926_518006860056096_461147366964775125_n.webp?stp=dst-jpg_e35&_nc_ht=scontent-ssn1-1.cdninstagram.com&_nc_cat=100&_nc_ohc=dVylTDfufZ4AX94ec-1&tn=w6-YUoZ1HahtecxY&edm=ALQROFkBAAAA&ccb=7-5&ig_cache_key=Mjg0NTIxMjk5NDI5MTgzNDc1OA%3D%3D.2-ccb7-5&oh=00_AT_nEF5AJrlO7WT5JOKh1Se25ldaW98Iec-p1GKjOw-QLw&oe=629554A9&_nc_sid=30a2ef'"
      ]
     },
     "execution_count": 91,
     "metadata": {},
     "output_type": "execute_result"
    }
   ],
   "source": [
    "result_df['picture'][0]"
   ]
  },
  {
   "cell_type": "code",
   "execution_count": 92,
   "metadata": {},
   "outputs": [],
   "source": [
    "# 이미지들 image_insta 폴더에 다운받기\n",
    "import os\n",
    "import urllib.request\n",
    "\n",
    "# 만약 image_insta 폴더가 없으면 만들어라\n",
    "if not os.path.exists(\"image_insta\"):\n",
    "    os.makedirs(\"image_insta\")\n",
    "        \n",
    "for i in range(0, 50):\n",
    "    \n",
    "    try:\n",
    "        index = result_df['picture'][i]\n",
    "        date = result_df['date'][i]\n",
    "        urllib.request.urlretrieve(index, \"image_insta/{0}_{1}.jpg\".format(date, i))        \n",
    "    except:\n",
    "        pass"
   ]
  },
  {
   "cell_type": "markdown",
   "metadata": {},
   "source": [
    "끝"
   ]
  },
  {
   "cell_type": "code",
   "execution_count": null,
   "metadata": {},
   "outputs": [],
   "source": []
  }
 ],
 "metadata": {
  "kernelspec": {
   "display_name": "Python 3 (ipykernel)",
   "language": "python",
   "name": "python3"
  },
  "language_info": {
   "codemirror_mode": {
    "name": "ipython",
    "version": 3
   },
   "file_extension": ".py",
   "mimetype": "text/x-python",
   "name": "python",
   "nbconvert_exporter": "python",
   "pygments_lexer": "ipython3",
   "version": "3.9.7"
  },
  "toc": {
   "base_numbering": 1,
   "nav_menu": {},
   "number_sections": true,
   "sideBar": true,
   "skip_h1_title": false,
   "title_cell": "Table of Contents",
   "title_sidebar": "Contents",
   "toc_cell": false,
   "toc_position": {},
   "toc_section_display": true,
   "toc_window_display": false
  },
  "varInspector": {
   "cols": {
    "lenName": 16,
    "lenType": 16,
    "lenVar": 40
   },
   "kernels_config": {
    "python": {
     "delete_cmd_postfix": "",
     "delete_cmd_prefix": "del ",
     "library": "var_list.py",
     "varRefreshCmd": "print(var_dic_list())"
    },
    "r": {
     "delete_cmd_postfix": ") ",
     "delete_cmd_prefix": "rm(",
     "library": "var_list.r",
     "varRefreshCmd": "cat(var_dic_list()) "
    }
   },
   "types_to_exclude": [
    "module",
    "function",
    "builtin_function_or_method",
    "instance",
    "_Feature"
   ],
   "window_display": false
  }
 },
 "nbformat": 4,
 "nbformat_minor": 2
}
